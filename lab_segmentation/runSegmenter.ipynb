{
 "cells": [
  {
   "cell_type": "markdown",
   "metadata": {},
   "source": [
    "<h1 style=\"font-size:40px;\"><center>Exercise III:<br> Image Segmentation using CNNs\n",
    "</center></h1>\n",
    "\n",
    "## Short summary\n",
    "In this exercise, we will design a CNN-based **encoder-decoder architecture** to segment rgb images. Image segmentation refers to dividing the image into semantically meaningful regions. For instance, representing each object in the scene with a unique color. The current folder has **three files**: \n",
    "- **configSegmenter.py:** this involves definitions of all parameters and data paths\n",
    "- **utilsSegmenter.py:** includes utility functions required to grab and visualize data \n",
    "- **runSegmenter.ipynb:** contains the script to design, train and test the network \n",
    "\n",
    "Make sure that before running this script, you created an environment and **installed all required libraries** such \n",
    "as keras. The very same environment used in Exercise II can be used here as well.\n",
    "\n",
    "## The data\n",
    "There exists also a subfolder called **data** which contains the traning, validation, and testing data each has both RGB input images together with the corresponding ground truth segmentation images.\n",
    "\n",
    "\n",
    "## The exercises\n",
    "As for the previous lab all exercises are found below.\n",
    "\n",
    "\n",
    "## The different 'Cells'\n",
    "This notebook contains several cells with python code, together with the markdown cells (like this one) with only text. Each of the cells with python code has a \"header\" markdown cell with information about the code. The table below provides a short overview of the code cells. \n",
    "\n",
    "| #  |  CellName | CellType | Comment |\n",
    "| :--- | :-------- | :-------- | :------- |\n",
    "| 1 | Init | Needed | Sets up the environment|\n",
    "| 2 | Ex | Exercise 1| A class definition of a CNN model  |\n",
    "| 3 | Loading | Needed | Loading parameters and initializing the model |\n",
    "| 4 | Stats | Needed | Show data distribution |\n",
    "| 5 | Data | Needed | Data augementation |\n",
    "| 6 | Data | Needed | Generating the data batches |\n",
    "| 7 | Debug | Needed | Debugging the data |\n",
    "| 8 | Device | Needed | Selecting CPU/GPU |\n",
    "| 9 | Optimization | Exercise 2 | Selecting an optimization method |\n",
    "| 10 | Training | Exercise 2 | Training the model   |\n",
    "| 11 | Testing | Exercise 2| Testing the  method   | \n",
    "| 13 | Plotting | Information  | View some of test samples |\n",
    "| 13 | Saving | Information  | Saving the model|\n",
    "\n",
    "\n",
    "In order for you to start with the exercise you need to run all cells. It is important that you do this in the correct order, starting from the top and work you way down the cells. Later when you have started to work with the notebook it may be easier to use the command \"Run All\" found in the \"Cell\" dropdown menu.\n",
    "\n",
    "## Writing the report\n",
    "First the report should be written within this notebook. We have prepared the last cell in this notebook for you where you should write the report. The report should contain 4 parts:\n",
    "\n",
    "* Name:\n",
    "* Introduction: A **few** sentences where you give a small introduction of what you have done in the lab.\n",
    "* Answers to questions: For each of the questions provide an answer. It can be short answers or a longer ones depending on the nature of the questions, but try to be effective in your writing.\n",
    "* Conclusion: Summarize your findings in a few sentences.\n",
    "  "
   ]
  },
  {
   "cell_type": "markdown",
   "metadata": {},
   "source": [
    "1) We first start with importing all required modules"
   ]
  },
  {
   "cell_type": "code",
   "execution_count": 681,
   "metadata": {},
   "outputs": [],
   "source": [
    "#%reset"
   ]
  },
  {
   "cell_type": "code",
   "execution_count": 2,
   "metadata": {},
   "outputs": [],
   "source": [
    "%load_ext autoreload\n",
    "\n",
    "from tensorflow.compat.v1 import ConfigProto\n",
    "from tensorflow.compat.v1 import InteractiveSession\n",
    "\n",
    "\n",
    "##etting GPUS before importing tensorflow to make sure it loads on the right one\n",
    "config = ConfigProto()\n",
    "config.gpu_options.allow_growth = True\n",
    "session = InteractiveSession(config=config)\n",
    "\n",
    "import os\n",
    "\n",
    "import tensorflow as tf\n",
    "from tensorflow import keras\n",
    "from utilsSegmenter import *\n",
    "from sklearn.metrics import confusion_matrix\n",
    "import seaborn as sns\n",
    "from datetime import datetime\n",
    "import os\n",
    "import pprint\n",
    "\n",
    "\n",
    "# import the necessary packages\n",
    "from keras.models import Sequential\n",
    "from keras.layers.normalization import BatchNormalization\n",
    "from keras.layers.convolutional import Conv2D, Conv1D, Convolution2D, Deconvolution2D, Cropping2D, UpSampling2D\n",
    "from keras.layers import Input,  Conv2DTranspose\n",
    "from keras.layers.convolutional import MaxPooling2D\n",
    "from keras.layers.core import Activation\n",
    "from keras.layers import Concatenate, concatenate, Reshape\n",
    "from keras.layers.core import Flatten\n",
    "from keras.layers.core import Dropout\n",
    "from keras.layers.core import Dense\n",
    "from keras.preprocessing.image import ImageDataGenerator\n",
    "from keras.optimizers import Adam\n",
    "from keras.models import Model\n",
    "from keras.callbacks import TensorBoard\n",
    "from keras.applications.vgg16 import VGG16, preprocess_input, decode_predictions\n",
    "from keras.layers import Input, merge\n",
    "from keras.regularizers import l2\n",
    "from keras.layers import Input, merge, Convolution2D, MaxPooling2D, UpSampling2D, Reshape, core, Dropout, Add"
   ]
  },
  {
   "cell_type": "code",
   "execution_count": null,
   "metadata": {},
   "outputs": [],
   "source": []
  },
  {
   "cell_type": "code",
   "execution_count": 3,
   "metadata": {},
   "outputs": [
    {
     "data": {
      "text/plain": [
       "[PhysicalDevice(name='/physical_device:CPU:0', device_type='CPU'),\n",
       " PhysicalDevice(name='/physical_device:XLA_CPU:0', device_type='XLA_CPU'),\n",
       " PhysicalDevice(name='/physical_device:XLA_GPU:0', device_type='XLA_GPU'),\n",
       " PhysicalDevice(name='/physical_device:GPU:0', device_type='GPU')]"
      ]
     },
     "execution_count": 3,
     "metadata": {},
     "output_type": "execute_result"
    }
   ],
   "source": [
    "tf.config.list_physical_devices()"
   ]
  },
  {
   "cell_type": "code",
   "execution_count": 4,
   "metadata": {},
   "outputs": [],
   "source": [
    "from configSegmenter import flying_objects_config\n",
    "%autoreload\n",
    "\n",
    "cfg = flying_objects_config()"
   ]
  },
  {
   "cell_type": "code",
   "execution_count": 5,
   "metadata": {},
   "outputs": [
    {
     "data": {
      "text/plain": [
       "{'training_data_dir': '../data/FlyingObjectDataset_10K/training',\n",
       " 'validation_data_dir': '../data/FlyingObjectDataset_10K/validation',\n",
       " 'testing_data_dir': '../data/FlyingObjectDataset_10K/testing',\n",
       " 'fineGrained': False,\n",
       " 'CLASSES': ['square', 'triangle', 'circular', 'background'],\n",
       " 'NUM_CLASS': 4,\n",
       " 'GPU': 0,\n",
       " 'DROPOUT_PROB': 0.2,\n",
       " 'IMAGE_WIDTH': 128,\n",
       " 'IMAGE_HEIGHT': 128,\n",
       " 'IMAGE_CHANNEL': 3,\n",
       " 'NUM_EPOCHS': 5,\n",
       " 'BATCH_SIZE': 32,\n",
       " 'LEARNING_RATE': 0.001,\n",
       " 'LR_DECAY_FACTOR': 0.1,\n",
       " 'PRINT_EVERY': 20,\n",
       " 'SAVE_EVERY': 1,\n",
       " 'DEBUG_MODE': True,\n",
       " 'DATA_AUGMENTATION': True}"
      ]
     },
     "execution_count": 5,
     "metadata": {},
     "output_type": "execute_result"
    }
   ],
   "source": [
    "flying_objects_config()"
   ]
  },
  {
   "cell_type": "code",
   "execution_count": 6,
   "metadata": {},
   "outputs": [],
   "source": [
    "%autoreload"
   ]
  },
  {
   "cell_type": "code",
   "execution_count": null,
   "metadata": {},
   "outputs": [],
   "source": []
  },
  {
   "cell_type": "code",
   "execution_count": null,
   "metadata": {},
   "outputs": [],
   "source": []
  },
  {
   "cell_type": "code",
   "execution_count": 7,
   "metadata": {},
   "outputs": [],
   "source": [
    "cfg.NUM_EPOCHS = 10\n",
    "opt = tf.optimizers.Adam(lr=1E-5, beta_1=0.9, beta_2=0.999,epsilon=1e-08)"
   ]
  },
  {
   "cell_type": "code",
   "execution_count": null,
   "metadata": {},
   "outputs": [],
   "source": []
  },
  {
   "cell_type": "markdown",
   "metadata": {},
   "source": [
    "2) Here, we have the network model class definition. In this class, the most important function is the one called **create_model()**. As defined in the exercises section, your task is to update the network architecture defined in this function such that the network will return the highest accuracy for the given training, validation, and testing data."
   ]
  },
  {
   "cell_type": "code",
   "execution_count": 14,
   "metadata": {},
   "outputs": [],
   "source": [
    "testRun = datetime.now()\n",
    "class SegmenterDNNModel():\n",
    "    def __init__(self, num_classes=10, batch_size=32, inputShape=(64,64,3), dropout_prob=0.25):\n",
    "        self.num_classes = num_classes\n",
    "        self.batch_size = batch_size\n",
    "        self.inputShape = inputShape\n",
    "        self.dropout_prob = dropout_prob\n",
    "\n",
    "    def conv2d_block(self, input_tensor, n_filters, kernel_size=3, batchnorm=True, dropout=True):\n",
    "        # first layer\n",
    "        x = Conv2D(filters=n_filters, kernel_size=(kernel_size, kernel_size), kernel_initializer=\"he_normal\", kernel_regularizer='l2',\n",
    "                   padding=\"same\")(input_tensor)\n",
    "        if batchnorm:\n",
    "            x = BatchNormalization()(x)\n",
    "        if dropout:\n",
    "            x = Dropout(0.2)(x)\n",
    "        x = Activation(\"relu\")(x)\n",
    "        return x\n",
    "    def upsample(self, input_tensor, n_filters, kernel_size=3, batchnorm=True, dropout=True):\n",
    "        #x = Conv2DTranspose(filters=n_filters, kernel_size=(3,3), strides=(2, 2), kernel_initializer=\"he_normal\", padding=\"same\", kernel_regularizer='l2')(input_tensor)\n",
    "        x = UpSampling2D((2, 2))(input_tensor)\n",
    "        if batchnorm:\n",
    "            x = BatchNormalization()(x)\n",
    "        if dropout:\n",
    "            x = Dropout(0.2)(x)\n",
    "        x = Activation(\"relu\")(x)\n",
    "        return x\n",
    "    \n",
    "    def create_model(self):\n",
    "        inputs = Input(shape=self.inputShape)\n",
    "        \n",
    "        keras.regularizers.l2(0.000001)\n",
    "        \n",
    "        c1 = self.conv2d_block(inputs, 32, 3, batchnorm=True, dropout=True)\n",
    "        p1 = MaxPooling2D((2, 2), strides=(2, 2))(c1)\n",
    "        c2 = self.conv2d_block(p1, 64, 3, batchnorm=True, dropout=False)\n",
    "        p2 = MaxPooling2D((2, 2), strides=(2, 2))(c2)\n",
    "        c3 = self.conv2d_block(p2, 128, 3, batchnorm=True, dropout=True)\n",
    "        p3 = MaxPooling2D((2, 2), strides=(2, 2))(c3)\n",
    "        c4 = self.conv2d_block(p3, 128, 3, batchnorm=True, dropout=False)\n",
    "        p4 = MaxPooling2D((2, 2), strides=(2, 2))(c4)\n",
    "    \n",
    "        u1 = self.upsample(p4, 256, kernel_size=3, batchnorm=True)\n",
    "        u1 = concatenate([c4, u1], axis=3)\n",
    "        u2 = self.upsample(u1, 256, kernel_size=3, batchnorm=False)\n",
    "        u2 = concatenate([c3, u2], axis=3)\n",
    "        u3 = self.upsample(u2, 256, kernel_size=3, batchnorm=True)\n",
    "        u3 = concatenate([c2, u3], axis=3)\n",
    "        u4 = self.upsample(u3, 256, kernel_size=3, batchnorm=False)\n",
    "        u4 = concatenate([c1, u4], axis=3)\n",
    "\n",
    "        u4 = self.conv2d_block(u4, 256, 3, batchnorm=True, dropout=False)\n",
    "        \"\"\"\n",
    "        \n",
    "        down1 = Conv2D(16, (3, 3),padding='same')(inputs)\n",
    "        down1 = Activation('relu')(down1)\n",
    "        down2 = Conv2D(32, (3, 3), padding='same')(down1)\n",
    "        down2 = Activation('relu')(down2)\n",
    "        up1 = Conv2D(64, (3, 3), padding='same')(down2)\n",
    "        up1 = Activation('relu')(up1)\n",
    "        up2 = Conv2D(32, (3, 3), padding='same')(up1)\n",
    "        up2 = Activation('relu')(up2)\n",
    "        \"\"\"\n",
    "\n",
    "        classify = Conv2D(self.num_classes, (1, 1), activation='sigmoid')(u4)\n",
    "\n",
    "        model = Model(inputs=inputs, outputs=classify)\n",
    "        model.summary()\n",
    "        return model \n",
    "    \n",
    "        \n",
    "      "
   ]
  },
  {
   "cell_type": "markdown",
   "metadata": {},
   "source": [
    "3) We import the network **hyperparameters** and build a simple cnn by calling the class introduced in the previous step. Please note that to change the hyperparameters, you just need to change the values in the file called **configClassifier.py.**. Do not forget to restart kernels. "
   ]
  },
  {
   "cell_type": "code",
   "execution_count": 15,
   "metadata": {},
   "outputs": [
    {
     "name": "stdout",
     "output_type": "stream",
     "text": [
      "Model: \"functional_1\"\n",
      "__________________________________________________________________________________________________\n",
      "Layer (type)                    Output Shape         Param #     Connected to                     \n",
      "==================================================================================================\n",
      "input_3 (InputLayer)            [(None, 128, 128, 3) 0                                            \n",
      "__________________________________________________________________________________________________\n",
      "conv2d_12 (Conv2D)              (None, 128, 128, 32) 896         input_3[0][0]                    \n",
      "__________________________________________________________________________________________________\n",
      "batch_normalization_14 (BatchNo (None, 128, 128, 32) 128         conv2d_12[0][0]                  \n",
      "__________________________________________________________________________________________________\n",
      "dropout_12 (Dropout)            (None, 128, 128, 32) 0           batch_normalization_14[0][0]     \n",
      "__________________________________________________________________________________________________\n",
      "activation_18 (Activation)      (None, 128, 128, 32) 0           dropout_12[0][0]                 \n",
      "__________________________________________________________________________________________________\n",
      "max_pooling2d_8 (MaxPooling2D)  (None, 64, 64, 32)   0           activation_18[0][0]              \n",
      "__________________________________________________________________________________________________\n",
      "conv2d_13 (Conv2D)              (None, 64, 64, 64)   18496       max_pooling2d_8[0][0]            \n",
      "__________________________________________________________________________________________________\n",
      "batch_normalization_15 (BatchNo (None, 64, 64, 64)   256         conv2d_13[0][0]                  \n",
      "__________________________________________________________________________________________________\n",
      "activation_19 (Activation)      (None, 64, 64, 64)   0           batch_normalization_15[0][0]     \n",
      "__________________________________________________________________________________________________\n",
      "max_pooling2d_9 (MaxPooling2D)  (None, 32, 32, 64)   0           activation_19[0][0]              \n",
      "__________________________________________________________________________________________________\n",
      "conv2d_14 (Conv2D)              (None, 32, 32, 128)  73856       max_pooling2d_9[0][0]            \n",
      "__________________________________________________________________________________________________\n",
      "batch_normalization_16 (BatchNo (None, 32, 32, 128)  512         conv2d_14[0][0]                  \n",
      "__________________________________________________________________________________________________\n",
      "dropout_13 (Dropout)            (None, 32, 32, 128)  0           batch_normalization_16[0][0]     \n",
      "__________________________________________________________________________________________________\n",
      "activation_20 (Activation)      (None, 32, 32, 128)  0           dropout_13[0][0]                 \n",
      "__________________________________________________________________________________________________\n",
      "max_pooling2d_10 (MaxPooling2D) (None, 16, 16, 128)  0           activation_20[0][0]              \n",
      "__________________________________________________________________________________________________\n",
      "conv2d_15 (Conv2D)              (None, 16, 16, 128)  147584      max_pooling2d_10[0][0]           \n",
      "__________________________________________________________________________________________________\n",
      "batch_normalization_17 (BatchNo (None, 16, 16, 128)  512         conv2d_15[0][0]                  \n",
      "__________________________________________________________________________________________________\n",
      "activation_21 (Activation)      (None, 16, 16, 128)  0           batch_normalization_17[0][0]     \n",
      "__________________________________________________________________________________________________\n",
      "max_pooling2d_11 (MaxPooling2D) (None, 8, 8, 128)    0           activation_21[0][0]              \n",
      "__________________________________________________________________________________________________\n",
      "up_sampling2d_8 (UpSampling2D)  (None, 16, 16, 128)  0           max_pooling2d_11[0][0]           \n",
      "__________________________________________________________________________________________________\n",
      "batch_normalization_18 (BatchNo (None, 16, 16, 128)  512         up_sampling2d_8[0][0]            \n",
      "__________________________________________________________________________________________________\n",
      "dropout_14 (Dropout)            (None, 16, 16, 128)  0           batch_normalization_18[0][0]     \n",
      "__________________________________________________________________________________________________\n",
      "activation_22 (Activation)      (None, 16, 16, 128)  0           dropout_14[0][0]                 \n",
      "__________________________________________________________________________________________________\n",
      "concatenate_8 (Concatenate)     (None, 16, 16, 256)  0           activation_21[0][0]              \n",
      "                                                                 activation_22[0][0]              \n",
      "__________________________________________________________________________________________________\n",
      "up_sampling2d_9 (UpSampling2D)  (None, 32, 32, 256)  0           concatenate_8[0][0]              \n",
      "__________________________________________________________________________________________________\n",
      "dropout_15 (Dropout)            (None, 32, 32, 256)  0           up_sampling2d_9[0][0]            \n",
      "__________________________________________________________________________________________________\n",
      "activation_23 (Activation)      (None, 32, 32, 256)  0           dropout_15[0][0]                 \n",
      "__________________________________________________________________________________________________\n",
      "concatenate_9 (Concatenate)     (None, 32, 32, 384)  0           activation_20[0][0]              \n",
      "                                                                 activation_23[0][0]              \n",
      "__________________________________________________________________________________________________\n",
      "up_sampling2d_10 (UpSampling2D) (None, 64, 64, 384)  0           concatenate_9[0][0]              \n",
      "__________________________________________________________________________________________________\n",
      "batch_normalization_19 (BatchNo (None, 64, 64, 384)  1536        up_sampling2d_10[0][0]           \n",
      "__________________________________________________________________________________________________\n",
      "dropout_16 (Dropout)            (None, 64, 64, 384)  0           batch_normalization_19[0][0]     \n",
      "__________________________________________________________________________________________________\n",
      "activation_24 (Activation)      (None, 64, 64, 384)  0           dropout_16[0][0]                 \n",
      "__________________________________________________________________________________________________\n",
      "concatenate_10 (Concatenate)    (None, 64, 64, 448)  0           activation_19[0][0]              \n",
      "                                                                 activation_24[0][0]              \n",
      "__________________________________________________________________________________________________\n",
      "up_sampling2d_11 (UpSampling2D) (None, 128, 128, 448 0           concatenate_10[0][0]             \n",
      "__________________________________________________________________________________________________\n",
      "dropout_17 (Dropout)            (None, 128, 128, 448 0           up_sampling2d_11[0][0]           \n",
      "__________________________________________________________________________________________________\n",
      "activation_25 (Activation)      (None, 128, 128, 448 0           dropout_17[0][0]                 \n",
      "__________________________________________________________________________________________________\n",
      "concatenate_11 (Concatenate)    (None, 128, 128, 480 0           activation_18[0][0]              \n",
      "                                                                 activation_25[0][0]              \n",
      "__________________________________________________________________________________________________\n",
      "conv2d_16 (Conv2D)              (None, 128, 128, 256 1106176     concatenate_11[0][0]             \n",
      "__________________________________________________________________________________________________\n",
      "batch_normalization_20 (BatchNo (None, 128, 128, 256 1024        conv2d_16[0][0]                  \n",
      "__________________________________________________________________________________________________\n",
      "activation_26 (Activation)      (None, 128, 128, 256 0           batch_normalization_20[0][0]     \n",
      "__________________________________________________________________________________________________\n",
      "conv2d_17 (Conv2D)              (None, 128, 128, 4)  1028        activation_26[0][0]              \n",
      "==================================================================================================\n",
      "Total params: 1,352,516\n",
      "Trainable params: 1,350,276\n",
      "Non-trainable params: 2,240\n",
      "__________________________________________________________________________________________________\n"
     ]
    }
   ],
   "source": [
    "image_shape = (cfg.IMAGE_HEIGHT, cfg.IMAGE_WIDTH, cfg.IMAGE_CHANNEL)\n",
    "modelObj = SegmenterDNNModel(num_classes=cfg.NUM_CLASS, batch_size=cfg.BATCH_SIZE, inputShape=image_shape, dropout_prob=cfg.DROPOUT_PROB)\n",
    "model = modelObj.create_model()"
   ]
  },
  {
   "cell_type": "markdown",
   "metadata": {},
   "source": [
    "4) We call the utility function **show_statistics** to display the data distribution. This is just for debugging purpose."
   ]
  },
  {
   "cell_type": "code",
   "execution_count": 743,
   "metadata": {},
   "outputs": [
    {
     "name": "stdout",
     "output_type": "stream",
     "text": [
      "\n",
      "######################################################################\n",
      "##################### Training Data Statistics #####################\n",
      "######################################################################\n",
      "total image number \t 10817\n",
      "total class number \t 3\n",
      "class square \t 3488 images\n",
      "class circular \t 3626 images\n",
      "class triangle \t 3703 images\n",
      "######################################################################\n",
      "\n",
      "######################################################################\n",
      "##################### Validation Data Statistics #####################\n",
      "######################################################################\n",
      "total image number \t 2241\n",
      "total class number \t 3\n",
      "class triangle \t 745 images\n",
      "class square \t 783 images\n",
      "class circular \t 713 images\n",
      "######################################################################\n",
      "\n",
      "######################################################################\n",
      "##################### Testing Data Statistics #####################\n",
      "######################################################################\n",
      "total image number \t 2220\n",
      "total class number \t 3\n",
      "class triangle \t 733 images\n",
      "class square \t 765 images\n",
      "class circular \t 722 images\n",
      "######################################################################\n"
     ]
    }
   ],
   "source": [
    "#### show how the data looks like\n",
    "show_statistics(cfg.training_data_dir, fineGrained=cfg.fineGrained, title=\" Training Data Statistics \")\n",
    "show_statistics(cfg.validation_data_dir, fineGrained=cfg.fineGrained, title=\" Validation Data Statistics \")\n",
    "show_statistics(cfg.testing_data_dir, fineGrained=cfg.fineGrained, title=\" Testing Data Statistics \")"
   ]
  },
  {
   "cell_type": "markdown",
   "metadata": {},
   "source": [
    "5) We **augment** the data by flipping the image horizontally or vertically. As described in the exercises section below, one of your tasks is to update this data augmentation part in order to increase the network efficiency."
   ]
  },
  {
   "cell_type": "code",
   "execution_count": 744,
   "metadata": {},
   "outputs": [
    {
     "name": "stdout",
     "output_type": "stream",
     "text": [
      "Data is being augmented!\n"
     ]
    }
   ],
   "source": [
    "# setup data\n",
    "if cfg.DATA_AUGMENTATION:\n",
    "    print(\"Data is being augmented!\")\n",
    "    aug_parameters = ImageDataGenerator(\n",
    "        # zoom_range=0.2, # randomly zoom into images\n",
    "        # rotation_range=10,  # randomly rotate images in the range (degrees, 0 to 180)\n",
    "        # width_shift_range=0.1,  # randomly shift images horizontally (fraction of total width)\n",
    "        # height_shift_range=0.1,  # randomly shift images vertically (fraction of total height)\n",
    "        horizontal_flip=True,  # randomly flip images\n",
    "        vertical_flip=True)  # randomly flip images\n",
    "else:\n",
    "    print(\"Data will not be augmented!\")\n",
    "    aug_parameters = ImageDataGenerator(\n",
    "        horizontal_flip=False,  # randomly flip images\n",
    "        vertical_flip=False)  # randomly flip images"
   ]
  },
  {
   "cell_type": "markdown",
   "metadata": {},
   "source": [
    "6) We now create batch generators to get small batches from the entire dataset. There is no need to change these functions as they already return **normalized inputs as batches**."
   ]
  },
  {
   "cell_type": "code",
   "execution_count": 745,
   "metadata": {},
   "outputs": [
    {
     "name": "stdout",
     "output_type": "stream",
     "text": [
      "Data batch generators are created!\n"
     ]
    }
   ],
   "source": [
    "nbr_train_data = get_dataset_size(cfg.training_data_dir)\n",
    "nbr_valid_data = get_dataset_size(cfg.validation_data_dir)\n",
    "nbr_test_data = get_dataset_size(cfg.testing_data_dir)\n",
    "train_batch_generator = generate_segmentation_batches(cfg.training_data_dir, image_shape, cfg.BATCH_SIZE)\n",
    "valid_batch_generator = generate_segmentation_batches(cfg.validation_data_dir, image_shape, cfg.BATCH_SIZE)\n",
    "test_batch_generator = generate_segmentation_batches(cfg.testing_data_dir, image_shape, cfg.BATCH_SIZE)\n",
    "aug_train_batch_generator = generate_augmented_segmentation_batches(train_batch_generator, aug_parameters)\n",
    "aug_valid_batch_generator = generate_augmented_segmentation_batches(valid_batch_generator, aug_parameters)\n",
    "print(\"Data batch generators are created!\")"
   ]
  },
  {
   "cell_type": "markdown",
   "metadata": {},
   "source": [
    "7) We can visualize how the data looks like for debugging purpose"
   ]
  },
  {
   "cell_type": "code",
   "execution_count": 746,
   "metadata": {},
   "outputs": [
    {
     "name": "stdout",
     "output_type": "stream",
     "text": [
      "x (32, 128, 128, 3) float32 0.0 1.0\n",
      "y (32, 128, 128, 4) float32 0.0 1.0\n",
      "x (32, 128, 128, 3) float32 0.0 1.0\n",
      "y (32, 128, 128, 4) float32 0.0 1.0\n"
     ]
    },
    {
     "data": {
      "image/png": "[encoded data removed]",
      "text/plain": [
       "<Figure size 720x720 with 8 Axes>"
      ]
     },
     "metadata": {},
     "output_type": "display_data"
    },
    {
     "name": "stdout",
     "output_type": "stream",
     "text": [
      "{'BATCH_SIZE': 32,\n",
      " 'CLASSES': ['square', 'triangle', 'circular', 'background'],\n",
      " 'DATA_AUGMENTATION': True,\n",
      " 'DEBUG_MODE': True,\n",
      " 'DROPOUT_PROB': 0.2,\n",
      " 'GPU': 0,\n",
      " 'IMAGE_CHANNEL': 3,\n",
      " 'IMAGE_HEIGHT': 128,\n",
      " 'IMAGE_WIDTH': 128,\n",
      " 'LEARNING_RATE': 0.001,\n",
      " 'LR_DECAY_FACTOR': 0.1,\n",
      " 'NUM_CLASS': 4,\n",
      " 'NUM_EPOCHS': 10,\n",
      " 'PRINT_EVERY': 20,\n",
      " 'SAVE_EVERY': 1,\n",
      " 'fineGrained': False,\n",
      " 'testing_data_dir': '../data/FlyingObjectDataset_10K/testing',\n",
      " 'training_data_dir': '../data/FlyingObjectDataset_10K/training',\n",
      " 'validation_data_dir': '../data/FlyingObjectDataset_10K/validation'}\n"
     ]
    }
   ],
   "source": [
    "if cfg.DEBUG_MODE:\n",
    "    t_x, t_y = next(train_batch_generator)\n",
    "    print('x', t_x.shape, t_x.dtype, t_x.min(), t_x.max())\n",
    "    print('y', t_y.shape, t_y.dtype, t_y.min(), t_y.max())\n",
    "    a_x, a_y = next(aug_train_batch_generator)\n",
    "    print('x', a_x.shape, a_x.dtype, a_x.min(), a_x.max())\n",
    "    print('y', a_y.shape, a_y.dtype, a_y.min(), a_y.max())\n",
    "    plot_sample_data_with_groundtruth(a_x, a_y)\n",
    "    pprint.pprint (cfg)"
   ]
  },
  {
   "cell_type": "markdown",
   "metadata": {},
   "source": [
    "8) We select which processing unit to use, either CPU or GPU. In case of having multiple GPUs, we can still select which GPU to use."
   ]
  },
  {
   "cell_type": "code",
   "execution_count": 747,
   "metadata": {},
   "outputs": [
    {
     "name": "stdout",
     "output_type": "stream",
     "text": [
      "creating network model using gpu 0\n"
     ]
    }
   ],
   "source": [
    "if cfg.GPU >=0:\n",
    "    print(\"creating network model using gpu \" + str(cfg.GPU))\n",
    "    os.environ['CUDA_VISIBLE_DEVICES'] = str(cfg.GPU)\n",
    "elif cfg.GPU >=-1:\n",
    "    print(\"creating network model using cpu \")  \n",
    "    os.environ[\"CUDA_DEVICE_ORDER\"] = \"PCI_BUS_ID\"   # see issue #152\n",
    "    os.environ[\"CUDA_VISIBLE_DEVICES\"] = \"\""
   ]
  },
  {
   "cell_type": "markdown",
   "metadata": {},
   "source": [
    "9) We set the training configuration. As a part of the exercises, this function can also be updated to test different **optimization methods** such as **SGD, ADAM,** etc."
   ]
  },
  {
   "cell_type": "code",
   "execution_count": 748,
   "metadata": {},
   "outputs": [],
   "source": [
    "#opt = tf.optimizers.Adam(cfg.LEARNING_RATE)\n",
    "class MyMeanIOU(tf.keras.metrics.MeanIoU):\n",
    "    def update_state(self, y_true, y_pred, sample_weight=None):\n",
    "        return super().update_state(tf.argmax(y_true, axis=-1), tf.argmax(y_pred, axis=-1), sample_weight)\n",
    "    \n",
    "model.compile(loss=keras.losses.categorical_crossentropy,\n",
    "              optimizer= opt, metrics=['accuracy',  MyMeanIOU(cfg.NUM_CLASS)]) "
   ]
  },
  {
   "cell_type": "markdown",
   "metadata": {},
   "source": [
    "10) We can now feed the training and validation data to the network. This will train the network for **some epochs**. Note that the epoch number is also predefined in the file called **configSegmenter.py.**"
   ]
  },
  {
   "cell_type": "code",
   "execution_count": 749,
   "metadata": {},
   "outputs": [
    {
     "name": "stdout",
     "output_type": "stream",
     "text": [
      "Epoch 1/10\n",
      "338/338 [==============================] - 42s 125ms/step - loss: 0.9993 - accuracy: 0.8424 - my_mean_iou_21: 0.2182 - val_loss: 0.5500 - val_accuracy: 0.8600 - val_my_mean_iou_21: 0.2150\n",
      "Epoch 2/10\n",
      "338/338 [==============================] - 43s 128ms/step - loss: 0.3845 - accuracy: 0.8651 - my_mean_iou_21: 0.2273 - val_loss: 0.3307 - val_accuracy: 0.8722 - val_my_mean_iou_21: 0.2629\n",
      "Epoch 3/10\n",
      "338/338 [==============================] - 42s 125ms/step - loss: 0.2722 - accuracy: 0.8907 - my_mean_iou_21: 0.3146 - val_loss: 0.2149 - val_accuracy: 0.9103 - val_my_mean_iou_21: 0.3612\n",
      "Epoch 4/10\n",
      "338/338 [==============================] - 39s 116ms/step - loss: 0.1903 - accuracy: 0.9116 - my_mean_iou_21: 0.3575 - val_loss: 0.1821 - val_accuracy: 0.9126 - val_my_mean_iou_21: 0.3702\n",
      "Epoch 5/10\n",
      "338/338 [==============================] - 39s 114ms/step - loss: 0.1735 - accuracy: 0.9126 - my_mean_iou_21: 0.3647 - val_loss: 0.1739 - val_accuracy: 0.9132 - val_my_mean_iou_21: 0.3756\n",
      "Epoch 6/10\n",
      "338/338 [==============================] - 39s 116ms/step - loss: 0.1680 - accuracy: 0.9136 - my_mean_iou_21: 0.3663 - val_loss: 0.1702 - val_accuracy: 0.9140 - val_my_mean_iou_21: 0.3728\n",
      "Epoch 7/10\n",
      "338/338 [==============================] - 41s 122ms/step - loss: 0.1651 - accuracy: 0.9142 - my_mean_iou_21: 0.3721 - val_loss: 0.1679 - val_accuracy: 0.9109 - val_my_mean_iou_21: 0.3876\n",
      "Epoch 8/10\n",
      "338/338 [==============================] - 41s 122ms/step - loss: 0.1634 - accuracy: 0.9143 - my_mean_iou_21: 0.3796 - val_loss: 0.1665 - val_accuracy: 0.9113 - val_my_mean_iou_21: 0.3961\n",
      "Epoch 9/10\n",
      "338/338 [==============================] - 42s 123ms/step - loss: 0.1621 - accuracy: 0.9142 - my_mean_iou_21: 0.3835 - val_loss: 0.1654 - val_accuracy: 0.9115 - val_my_mean_iou_21: 0.3993\n",
      "Epoch 10/10\n",
      "338/338 [==============================] - 38s 112ms/step - loss: 0.1612 - accuracy: 0.9140 - my_mean_iou_21: 0.3866 - val_loss: 0.1645 - val_accuracy: 0.9114 - val_my_mean_iou_21: 0.4003\n"
     ]
    }
   ],
   "source": [
    "history = model.fit(aug_train_batch_generator,\n",
    "          epochs=cfg.NUM_EPOCHS,\n",
    "          verbose=1,\n",
    "          steps_per_epoch=(nbr_train_data//cfg.BATCH_SIZE), # total batch number\n",
    "          validation_steps=(nbr_valid_data // cfg.BATCH_SIZE), # total batch number\n",
    "          validation_data=valid_batch_generator,\n",
    "          callbacks=[TensorBoard(log_dir=\"logs/{}\".format(testRun), write_graph=True, write_images=False,\n",
    "                                 histogram_freq=0)])"
   ]
  },
  {
   "cell_type": "markdown",
   "metadata": {},
   "source": [
    "11) We can test the model with the test data"
   ]
  },
  {
   "cell_type": "code",
   "execution_count": 750,
   "metadata": {},
   "outputs": [
    {
     "name": "stdout",
     "output_type": "stream",
     "text": [
      "69/69 [==============================] - 6s 83ms/step - loss: 0.1584 - accuracy: 0.9169 - my_mean_iou_21: 0.4060\n",
      "Test Loss:  0.1584 Test Accuracy:  0.9169\n"
     ]
    }
   ],
   "source": [
    "# testing model\n",
    "test_result = model.evaluate(test_batch_generator,\n",
    "                                       steps=(nbr_test_data//cfg.BATCH_SIZE))\n",
    "test_loss = round(test_result[0], 4)\n",
    "test_acc = round(test_result[1], 4)\n",
    "print(\"Test Loss: \", str(test_loss), \"Test Accuracy: \", str(test_acc))"
   ]
  },
  {
   "cell_type": "code",
   "execution_count": 751,
   "metadata": {},
   "outputs": [
    {
     "data": {
      "image/png": "[encoded data removed]",
      "text/plain": [
       "<Figure size 432x288 with 1 Axes>"
      ]
     },
     "metadata": {
      "needs_background": "light"
     },
     "output_type": "display_data"
    }
   ],
   "source": [
    "loss = history.history['loss']\n",
    "val_loss = history.history['val_loss']\n",
    "\n",
    "epochs = range(len(history.epoch))\n",
    "\n",
    "plt.figure()\n",
    "plt.plot(epochs, loss, 'r', label='Training loss')\n",
    "plt.plot(epochs, val_loss, 'bo', label='Validation loss')\n",
    "plt.title('Training and Validation Loss')\n",
    "plt.xlabel('Epoch')\n",
    "plt.ylabel('Loss Value')\n",
    "plt.ylim([0, 1])\n",
    "plt.legend()\n",
    "plt.show()"
   ]
  },
  {
   "cell_type": "markdown",
   "metadata": {},
   "source": [
    "12) We can also show sample segmentation results"
   ]
  },
  {
   "cell_type": "code",
   "execution_count": 752,
   "metadata": {},
   "outputs": [
    {
     "data": {
      "image/png": "[encoded data removed]",
      "text/plain": [
       "<Figure size 720x720 with 24 Axes>"
      ]
     },
     "metadata": {},
     "output_type": "display_data"
    }
   ],
   "source": [
    "t_data, t_segments = next(test_batch_generator)\n",
    "pred_segments = model.predict(t_data, batch_size=cfg.BATCH_SIZE)\n",
    "plot_sample_segmentation_results(t_data, t_segments, pred_segments, test_acc)"
   ]
  },
  {
   "cell_type": "markdown",
   "metadata": {},
   "source": [
    "13) Finally, we can save the model"
   ]
  },
  {
   "cell_type": "code",
   "execution_count": 753,
   "metadata": {},
   "outputs": [],
   "source": [
    "# save the model\n",
    "model.save('./logs/model_epoch_{}.h5'.format(testRun)) "
   ]
  },
  {
   "cell_type": "markdown",
   "metadata": {},
   "source": [
    "## EXERCISES"
   ]
  },
  {
   "cell_type": "markdown",
   "metadata": {},
   "source": [
    "Please do all exercises desribed below. Note that all your source code as well as the log folders must be provided as final results **before May 02, 2019.** \n",
    "\n",
    "\n",
    "#### Exercise 1)\n",
    "Update the network architecture given in the function **create_model** of the class SegmenterDNNModel. \n",
    "\n",
    "**Hint:** You can add more convolution, max pooling layers etc. Batch normalization and dropout are other options to be considered. You can also try applying different activation functions."
   ]
  },
  {
   "cell_type": "markdown",
   "metadata": {},
   "source": [
    "#### Exercise 2) \n",
    "Use different **optimization** (e.g. ADAM, SGD, etc) and **regularization** (e.g. batchnorm, dropout) methods to increase the network accuracy. Try adding more skip connections from early encoder layers to deeper decoder layers as well. "
   ]
  },
  {
   "cell_type": "markdown",
   "metadata": {},
   "source": [
    "#### Hint:\n",
    "All network resposes are stored in a **log folder** which is automatically created. To visualize these responses, we can use the tensorboard as follows:\n",
    "- First make sure that there is a new folder created with **a date and time stamp** under folder **logs**\n",
    "- Next, open a terminal and type \n",
    "    > tensorboard --logdir=./logs\n",
    "- Finally, open a web browser and type \n",
    "    > http://localhost:6006\n",
    "- You can have an overview of all accuracies on the tensorboard. For more information about tensorboard, please see https://www.tensorflow.org/guide/summaries_and_tensorboard"
   ]
  },
  {
   "cell_type": "markdown",
   "metadata": {},
   "source": [
    "# The report!\n",
    "\n",
    "\n",
    "## Name\n",
    "Fredrik Mårtensson\n",
    "\n",
    "## Introduction\n",
    "This is the third project in the course Deep learning. The project gives an deep understanding of regularization and optimization for an CNN-based **encoder-decoder architecture** to segment rgb images. Two tasks where a model will be created, updated to handle overfitting and underfitting in order to classify images into semantically meaningful regions. Results for different models is presented and their logs for future references. The models was analysed with tensorboard and compared towards each other in order to get an understanding of the presented result.\n",
    "## Answers to questions\n",
    "### Q1)\n",
    "The first step in updating the network was to make it as simple as possible. Reduce the number of neurons and layers while achieving an okay prediction. The idea was that a simple network is easier to work on and avoids a high level of complexity. The tests were carried out in one epoch with a simpler model and no downsampling. The model gave the following result for 1) training, 2) testing. The model is not perfect and can be seen in image that the model do have some probelms of classifying the regions. However, compared to the original this model can detect the hole region and seperate it from the others compared to the original code that could only detect the edges.\n",
    "\n",
    "1) Loss: 0.1612 - accuracy: 0.9140 - my_mean_iou_21: 0.3866 - val_loss: 0.1645 - val_accuracy: 0.9114 - val_my_mean_iou_21: 0.4003\n",
    "2) Loss: 0.1584 - accuracy: 0.9169 - my_mean_iou_21: 0.4060\n",
    "\n",
    "* down1 = Conv2D(16, (3, 3),padding='same')(inputs)\n",
    "* down1 = Activation('relu')(down1)\n",
    "* down2 = Conv2D(32, (3, 3), padding='same')(down1)\n",
    "* down2 = Activation('relu')(down2)\n",
    "* up1 = Conv2D(64, (3, 3), padding='same')(down2)\n",
    "* up1 = Activation('relu')(up1)\n",
    "* up2 = Conv2D(32, (3, 3), padding='same')(up1)\n",
    "* up2 = Activation('relu')(up2)\n",
    "\n",
    "![image.png](simplified.png)\n",
    "\n",
    "### Q2)\n",
    "In order to improve the model from excercise 1, several tests were performed based on the first model where test of (loss, accuracy) is presented. Something that was quite interesting is that even though a high accuracy was given the model could be really bad. Therefor a new metric, mean intersection over union (mIoU), is introduced. It was easy to get a good accuracy but the more tests that was applied showed that an accuracy less than 97% did not perform good. This could easier be showed with IoU since accuracies over 97% started to affect it and give a higher mIoU value. Multiple parameters where tested but yielded worse mIoT. The following parameters where tested; SGD, l2 regularization, different dropout/batchnormalization on differnt layers, number of layers, size of encoding/decoding layers. Most of them did not improve alone but the most effect was given by skip connection and size of each layer. \n",
    "\n",
    "The final model (name: 2020-12-11 14:55:20.357048) presented the following on 1) training and 2) test set: \n",
    "    \n",
    "    1) loss: 0.0433 - accuracy: 0.9870 - my_mean_iou_17: 0.8840 - val_loss: 0.0615 - val_accuracy: 0.9875 - val_my_mean_iou_17: 0.8897\n",
    "    2) loss: 0.0556 - accuracy: 0.9902 - my_mean_iou_17: 0.9120\n",
    "\n",
    "This shows that the model did perform even better on the testing set than the training for the mIoU. The performance can also be observed in the graphs below.\n",
    "\n",
    "Graphs for the best model: \n",
    "\n",
    "![image.png](final.png)\n",
    "\n",
    "Truth image vs prediction:\n",
    "\n",
    "![image.png](final_pred.png)\n",
    "\n",
    "\n",
    "Lets compare the final model with any earlier model:\n",
    "\n",
    "    * c1 = self.conv2d_block(inputs, 32, 3, batchnorm=True, dropout=True)\n",
    "    * p1 = MaxPooling2D((2, 2), strides=(2, 2))(c1)\n",
    "    * c2 = self.conv2d_block(p1, 64, 3, batchnorm=True, dropout=False)\n",
    "    * p2 = MaxPooling2D((2, 2), strides=(2, 2))(c2)\n",
    "    * c3 = self.conv2d_block(p2, 128, 3, batchnorm=True, dropout=True)\n",
    "    * p3 = MaxPooling2D((2, 2), strides=(2, 2))(c3)\n",
    "    * c4 = self.conv2d_block(p3, 128, 3, batchnorm=True, dropout=False)\n",
    "    * p4 = MaxPooling2D((2, 2), strides=(2, 2))(c4)\n",
    "    * u1 = self.upsample(p4, 256, kernel_size=3, batchnorm=True)\n",
    "    * u1 = concatenate([c4, u1], axis=3)\n",
    "    * u2 = self.upsample(u1, 256, kernel_size=3, batchnorm=False)\n",
    "    * u2 = concatenate([c3, u2], axis=3)\n",
    "    * u3 = self.upsample(u2, 256, kernel_size=3, batchnorm=True)\n",
    "    * u3 = concatenate([c2, u3], axis=3)\n",
    "    * u4 = self.upsample(u3, 256, kernel_size=3, batchnorm=False)\n",
    "    * u4 = concatenate([c1, u4], axis=3)\n",
    "    * u4 = self.conv2d_block(u4, 256, 3, batchnorm=True, dropout=False)\n",
    "    * classify = Conv2D(self.num_classes, (1, 1), activation='sigmoid')(u4)\n",
    "\n",
    "If we compare the new model (2020-12-11 14:55:20.357048) to the first model (2020-12-11 21:23:03.091269) that was given and run at 10 epochs. The model did have a hight accuracy but low mIoU which can be observed even better in the corresponding image for prediction where it could not predict a single object correct except for small details on the edges. This could imply that the network is not deep enough or missing the encoder-decoder settings.\n",
    "    \n",
    "    * loss: 0.1535 - accuracy: 0.9200 - my_mean_iou_20: 0.4275 - val_loss: 0.1564 - val_accuracy: 0.9184 - val_my_mean_iou_20: 0.4148\n",
    "    * loss: 0.1506 - accuracy: 0.9236 - my_mean_iou_20: 0.4213\n",
    "\n",
    "![image.png](original.png)\n",
    "\n",
    "## Summary\n",
    "\n",
    "The project contained a lot of exploring of different parameters. The result is within is good but at the cost of a longer training time a higher accuracy and mIoT is achieved. Since l2 did not converge it could be a possibility that the model overfit very hard. It is however hard to test since the model otherwise performs very well in terms of accuracy, loss and mIoU. mIoU was a good implementation afterwards since it resulted in a better metric that showed the true performance of model instead of an accuracy that gave high result even if the model performed poorly. The tested models can be observed in the logs and are tested between folders 1-9. Note that small changes are given in order to parametertune the network but most of them performed poorly since mIoT where not tested and accuracy did not give a good representation of reality behind the images."
   ]
  },
  {
   "cell_type": "code",
   "execution_count": null,
   "metadata": {},
   "outputs": [],
   "source": []
  }
 ],
 "metadata": {
  "kernelspec": {
   "display_name": "deep_learning",
   "language": "python",
   "name": "deep_learning"
  },
  "language_info": {
   "codemirror_mode": {
    "name": "ipython",
    "version": 3
   },
   "file_extension": ".py",
   "mimetype": "text/x-python",
   "name": "python",
   "nbconvert_exporter": "python",
   "pygments_lexer": "ipython3",
   "version": "3.8.5"
  }
 },
 "nbformat": 4,
 "nbformat_minor": 4
}
