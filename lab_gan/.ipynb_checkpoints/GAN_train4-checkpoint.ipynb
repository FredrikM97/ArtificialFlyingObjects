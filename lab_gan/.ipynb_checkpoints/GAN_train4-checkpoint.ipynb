{
 "cells": [
  {
   "cell_type": "code",
   "execution_count": 1,
   "metadata": {},
   "outputs": [],
   "source": [
    "%load_ext autoreload\n",
    "%autoreload 2"
   ]
  },
  {
   "cell_type": "code",
   "execution_count": 2,
   "metadata": {},
   "outputs": [],
   "source": [
    "from configGAN import *\n",
    "import setupGPU\n",
    "cfg = flying_objects_config()\n",
    "setupGPU.setup_GPU(cfg)"
   ]
  },
  {
   "cell_type": "code",
   "execution_count": 3,
   "metadata": {},
   "outputs": [
    {
     "name": "stdout",
     "output_type": "stream",
     "text": [
      "creating network model using gpu 0\n"
     ]
    }
   ],
   "source": [
    "import tensorflow as tf\n",
    "from utilsGAN import *\n",
    "from improvedUtils import preprocess, logger"
   ]
  },
  {
   "cell_type": "code",
   "execution_count": 4,
   "metadata": {},
   "outputs": [
    {
     "name": "stdout",
     "output_type": "stream",
     "text": [
      "\n",
      "######################################################################\n",
      "##################### Training Data Statistics #####################\n",
      "######################################################################\n",
      "total image number \t 10817\n",
      "total class number \t 3\n",
      "class square \t 3488 images\n",
      "class circular \t 3626 images\n",
      "class triangle \t 3703 images\n",
      "######################################################################\n",
      "\n",
      "######################################################################\n",
      "##################### Validation Data Statistics #####################\n",
      "######################################################################\n",
      "total image number \t 2241\n",
      "total class number \t 3\n",
      "class triangle \t 745 images\n",
      "class square \t 783 images\n",
      "class circular \t 713 images\n",
      "######################################################################\n",
      "\n",
      "######################################################################\n",
      "##################### Testing Data Statistics #####################\n",
      "######################################################################\n",
      "total image number \t 2220\n",
      "total class number \t 3\n",
      "class triangle \t 733 images\n",
      "class square \t 765 images\n",
      "class circular \t 722 images\n",
      "######################################################################\n"
     ]
    }
   ],
   "source": [
    "show_statistics(cfg.training_data_dir, fineGrained=False, title=\" Training Data Statistics \")\n",
    "show_statistics(cfg.validation_data_dir, fineGrained=False, title=\" Validation Data Statistics \")\n",
    "show_statistics(cfg.testing_data_dir, fineGrained=False, title=\" Testing Data Statistics \")"
   ]
  },
  {
   "cell_type": "markdown",
   "metadata": {},
   "source": [
    "# Define train function"
   ]
  },
  {
   "cell_type": "code",
   "execution_count": 5,
   "metadata": {},
   "outputs": [],
   "source": [
    "def start_training(train_class, model):\n",
    "    log_dir = logger(model.__name__)\n",
    "    print(f\"\\nSetting up training environment: Train: {train_class.__name__} Model: {model.__name__}\\n{'-'*40}\\nlog_dir: {log_dir}\")\n",
    "    train_batch_generator, valid_batch_generator, test_batch_generator, nbr_train_data,nbr_valid_data, nbr_test_data = preprocess(image_shape, normalize_type=model.__norm__, jitter=model.__jitter__, cfg=cfg)\n",
    "    gan = train_class.start_train(\n",
    "        model, \n",
    "        cfg, \n",
    "        log_dir=log_dir,\n",
    "        train_batch_generator=train_batch_generator,\n",
    "        valid_batch_generator=valid_batch_generator,\n",
    "        nbr_train_data=nbr_train_data,\n",
    "        nbr_valid_data=nbr_valid_data\n",
    "    )\n",
    "    return gan\n",
    "\n",
    "def init_models(model_class):\n",
    "    train_class = train_class = train.allowed[model_class.__train__]\n",
    "    start_training(train_class, model_class(image_shape))"
   ]
  },
  {
   "cell_type": "markdown",
   "metadata": {},
   "source": [
    "# Model and GAN Architecture"
   ]
  },
  {
   "cell_type": "code",
   "execution_count": 6,
   "metadata": {},
   "outputs": [],
   "source": [
    "import models\n",
    "import train"
   ]
  },
  {
   "cell_type": "code",
   "execution_count": 7,
   "metadata": {},
   "outputs": [
    {
     "name": "stdout",
     "output_type": "stream",
     "text": [
      "Allowed models:\n",
      "------------\n",
      "default_model_v0\n",
      "Pix2Pix_model_v1\n",
      "Pix2Pix_model_v10\n",
      "Pix2Pix_model_v11\n",
      "Pix2Pix_model_v12\n",
      "Pix2Pix_model_v2\n",
      "Pix2Pix_model_v3\n",
      "Pix2Pix_model_v5\n",
      "Pix2Pix_model_v6\n",
      "Pix2Pix_model_v7\n",
      "Pix2Pix_model_v8\n",
      "Pix2Pix_model_v9\n",
      "Pix2Pix_wasserstein_model_v4\n",
      "segmentation_model_v1\n",
      "segmentation_model_v2\n",
      "\n",
      "Allowed train:\n",
      "------------\n",
      "pix2pix_minibatches\n",
      "pix2pix\n",
      "wasserstein\n"
     ]
    }
   ],
   "source": [
    "print(\"Allowed models:\\n------------\",*models.allowed, sep=\"\\n\")\n",
    "print(\"\\nAllowed train:\\n------------\",*train.allowed, sep=\"\\n\")"
   ]
  },
  {
   "cell_type": "markdown",
   "metadata": {},
   "source": [
    "# Set model"
   ]
  },
  {
   "cell_type": "code",
   "execution_count": 8,
   "metadata": {},
   "outputs": [],
   "source": [
    "image_shape = (cfg.IMAGE_HEIGHT, cfg.IMAGE_WIDTH, cfg.IMAGE_CHANNEL)"
   ]
  },
  {
   "cell_type": "code",
   "execution_count": 9,
   "metadata": {},
   "outputs": [],
   "source": [
    "#model_class = models.allowed['Pix2Pix_model_v6']\n",
    "#train_class = train.allowed[model_class.__train__]\n",
    "#start_training(train_class, model_class(image_shape))"
   ]
  },
  {
   "cell_type": "code",
   "execution_count": null,
   "metadata": {},
   "outputs": [],
   "source": []
  },
  {
   "cell_type": "markdown",
   "metadata": {},
   "source": [
    "# Train Models"
   ]
  },
  {
   "cell_type": "code",
   "execution_count": 10,
   "metadata": {},
   "outputs": [],
   "source": [
    "#for model_class in list(models.allowed.values())[6]:\n",
    "#    train_class = train_class = train.allowed[model_class.__train__]\n",
    "#    start_training(train_class, model_class(image_shape))"
   ]
  },
  {
   "cell_type": "code",
   "execution_count": null,
   "metadata": {},
   "outputs": [
    {
     "name": "stdout",
     "output_type": "stream",
     "text": [
      "\n",
      "Setting up training environment: Train: pix2pix Model: Pix2Pix_model_v6\n",
      "----------------------------------------\n",
      "log_dir: ./logs/20210106-152453.Pix2Pix_model_v6\n",
      "train_x (30, 128, 128, 3) float32 -1.0 1.0\n",
      "train_y (30, 128, 128, 3) float32 -1.0 1.0\n",
      "{'BATCH_SIZE': 30,\n",
      " 'DATA_AUGMENTATION': True,\n",
      " 'DEBUG_MODE': True,\n",
      " 'DROPOUT_PROB': 0.5,\n",
      " 'GPU': 0,\n",
      " 'IMAGE_CHANNEL': 3,\n",
      " 'IMAGE_HEIGHT': 128,\n",
      " 'IMAGE_WIDTH': 128,\n",
      " 'LEARNING_RATE': 0.01,\n",
      " 'LR_DECAY_FACTOR': 0.1,\n",
      " 'NUM_EPOCHS': 200,\n",
      " 'PRINT_EVERY': 50,\n",
      " 'SAVE_EVERY': 1,\n",
      " 'SEQUENCE_LENGTH': 10,\n",
      " 'testing_data_dir': '../data/FlyingObjectDataset_10K/testing',\n",
      " 'training_data_dir': '../data/FlyingObjectDataset_10K/training',\n",
      " 'validation_data_dir': '../data/FlyingObjectDataset_10K/validation'}\n",
      "\n",
      "Starting to train model..\n",
      "Epoch 1/200\n",
      "  1/360 [..............................] - ETA: 0s - gen_total_loss: 104.4594 - gen_gan_loss: 0.6317 - gen_l1_loss: 1.0383 - disc_loss: 1.7556WARNING:tensorflow:From /home/stud/f/fremar16/miniconda3/envs/lab/lib/python3.8/site-packages/tensorflow/python/ops/summary_ops_v2.py:1277: stop (from tensorflow.python.eager.profiler) is deprecated and will be removed after 2020-07-01.\n",
      "Instructions for updating:\n",
      "use `tf.profiler.experimental.stop` instead.\n",
      "  2/360 [..............................] - ETA: 41s - gen_total_loss: 101.9753 - gen_gan_loss: 0.7126 - gen_l1_loss: 1.0126 - disc_loss: 1.7130WARNING:tensorflow:Callbacks method `on_train_batch_end` is slow compared to the batch time (batch time: 0.0523s vs `on_train_batch_end` time: 0.1806s). Check your callbacks.\n",
      "360/360 [==============================] - 82s 227ms/step - gen_total_loss: 13.5068 - gen_gan_loss: 1.3783 - gen_l1_loss: 0.1213 - disc_loss: 0.9716 - val_accuracy: 0.3744 - val_ssim2: 0.8913 - val_psnr2: 0.1744\n",
      "Epoch 2/200\n",
      "360/360 [==============================] - 82s 227ms/step - gen_total_loss: 3.6027 - gen_gan_loss: 0.9508 - gen_l1_loss: 0.0265 - disc_loss: 1.2198 - val_accuracy: 0.4538 - val_ssim2: 0.9310 - val_psnr2: 0.2094\n",
      "Epoch 3/200\n",
      "360/360 [==============================] - 81s 226ms/step - gen_total_loss: 2.3871 - gen_gan_loss: 0.8480 - gen_l1_loss: 0.0154 - disc_loss: 1.2884 - val_accuracy: 0.4906 - val_ssim2: 0.9232 - val_psnr2: 0.1942\n",
      "Epoch 4/200\n",
      "360/360 [==============================] - 81s 226ms/step - gen_total_loss: 1.7699 - gen_gan_loss: 0.7820 - gen_l1_loss: 0.0099 - disc_loss: 1.3390 - val_accuracy: 0.2734 - val_ssim2: 0.9298 - val_psnr2: 0.2034\n",
      "Epoch 5/200\n",
      "360/360 [==============================] - 85s 235ms/step - gen_total_loss: 1.4432 - gen_gan_loss: 0.7438 - gen_l1_loss: 0.0070 - disc_loss: 1.3649 - val_accuracy: 0.4182 - val_ssim2: 0.9376 - val_psnr2: 0.2127\n",
      "Epoch 6/200\n",
      "360/360 [==============================] - 86s 238ms/step - gen_total_loss: 1.2877 - gen_gan_loss: 0.7284 - gen_l1_loss: 0.0056 - disc_loss: 1.3748 - val_accuracy: 0.3747 - val_ssim2: 0.9369 - val_psnr2: 0.2123\n",
      "Epoch 7/200\n",
      "360/360 [==============================] - 84s 234ms/step - gen_total_loss: 1.1883 - gen_gan_loss: 0.7208 - gen_l1_loss: 0.0047 - disc_loss: 1.3813 - val_accuracy: 0.4082 - val_ssim2: 0.9363 - val_psnr2: 0.2119\n",
      "Epoch 8/200\n",
      "360/360 [==============================] - 84s 234ms/step - gen_total_loss: 1.1193 - gen_gan_loss: 0.7140 - gen_l1_loss: 0.0041 - disc_loss: 1.3788 - val_accuracy: 0.5046 - val_ssim2: 0.9348 - val_psnr2: 0.2113\n",
      "Epoch 9/200\n",
      "360/360 [==============================] - 85s 237ms/step - gen_total_loss: 1.0698 - gen_gan_loss: 0.7096 - gen_l1_loss: 0.0036 - disc_loss: 1.3826 - val_accuracy: 0.4174 - val_ssim2: 0.9368 - val_psnr2: 0.2123\n",
      "Epoch 10/200\n",
      "360/360 [==============================] - 85s 236ms/step - gen_total_loss: 1.0316 - gen_gan_loss: 0.7063 - gen_l1_loss: 0.0033 - disc_loss: 1.3841 - val_accuracy: 0.3473 - val_ssim2: 0.9396 - val_psnr2: 0.2171\n",
      "Epoch 11/200\n",
      "360/360 [==============================] - 84s 233ms/step - gen_total_loss: 1.0046 - gen_gan_loss: 0.7055 - gen_l1_loss: 0.0030 - disc_loss: 1.3846 - val_accuracy: 0.3310 - val_ssim2: 0.9373 - val_psnr2: 0.2133\n",
      "Epoch 12/200\n",
      "360/360 [==============================] - 84s 234ms/step - gen_total_loss: 0.9852 - gen_gan_loss: 0.7134 - gen_l1_loss: 0.0027 - disc_loss: 1.4306 - val_accuracy: 0.6055 - val_ssim2: 0.9397 - val_psnr2: 0.2163\n",
      "Epoch 13/200\n",
      "360/360 [==============================] - 85s 235ms/step - gen_total_loss: 0.9401 - gen_gan_loss: 0.6944 - gen_l1_loss: 0.0025 - disc_loss: 1.3900 - val_accuracy: 0.3911 - val_ssim2: 0.9404 - val_psnr2: 0.2170\n",
      "Epoch 14/200\n",
      "360/360 [==============================] - 85s 236ms/step - gen_total_loss: 0.9270 - gen_gan_loss: 0.6942 - gen_l1_loss: 0.0023 - disc_loss: 1.3886 - val_accuracy: 0.3254 - val_ssim2: 0.9408 - val_psnr2: 0.2163\n",
      "Epoch 15/200\n",
      "360/360 [==============================] - 84s 234ms/step - gen_total_loss: 0.9379 - gen_gan_loss: 0.6940 - gen_l1_loss: 0.0024 - disc_loss: 1.3881 - val_accuracy: 0.5255 - val_ssim2: 0.9406 - val_psnr2: 0.2173\n",
      "Epoch 16/200\n",
      "360/360 [==============================] - 85s 236ms/step - gen_total_loss: 0.9124 - gen_gan_loss: 0.6940 - gen_l1_loss: 0.0022 - disc_loss: 1.3880 - val_accuracy: 0.6478 - val_ssim2: 0.9433 - val_psnr2: 0.2207\n",
      "Epoch 17/200\n",
      "360/360 [==============================] - 84s 233ms/step - gen_total_loss: 0.9027 - gen_gan_loss: 0.6942 - gen_l1_loss: 0.0021 - disc_loss: 1.3883 - val_accuracy: 0.5703 - val_ssim2: 0.9430 - val_psnr2: 0.2194\n",
      "Epoch 18/200\n",
      "360/360 [==============================] - 84s 234ms/step - gen_total_loss: 0.8858 - gen_gan_loss: 0.6941 - gen_l1_loss: 0.0019 - disc_loss: 1.3881 - val_accuracy: 0.4724 - val_ssim2: 0.9403 - val_psnr2: 0.2172\n",
      "Epoch 19/200\n",
      "360/360 [==============================] - 84s 235ms/step - gen_total_loss: 0.8789 - gen_gan_loss: 0.6941 - gen_l1_loss: 0.0018 - disc_loss: 1.3879 - val_accuracy: 0.2626 - val_ssim2: 0.9423 - val_psnr2: 0.2200\n",
      "Epoch 20/200\n",
      "360/360 [==============================] - 85s 236ms/step - gen_total_loss: 0.8685 - gen_gan_loss: 0.6940 - gen_l1_loss: 0.0017 - disc_loss: 1.3880 - val_accuracy: 0.3595 - val_ssim2: 0.9376 - val_psnr2: 0.2131\n",
      "Epoch 21/200\n",
      "360/360 [==============================] - 83s 232ms/step - gen_total_loss: 0.8643 - gen_gan_loss: 0.6940 - gen_l1_loss: 0.0017 - disc_loss: 1.3879 - val_accuracy: 0.1627 - val_ssim2: 0.9046 - val_psnr2: 0.1710\n",
      "Epoch 22/200\n",
      "360/360 [==============================] - 80s 223ms/step - gen_total_loss: 1.3105 - gen_gan_loss: 0.6979 - gen_l1_loss: 0.0061 - disc_loss: 1.3870 - val_accuracy: 0.5237 - val_ssim2: 0.9424 - val_psnr2: 0.2177\n",
      "Epoch 23/200\n",
      "360/360 [==============================] - 81s 225ms/step - gen_total_loss: 0.8657 - gen_gan_loss: 0.6940 - gen_l1_loss: 0.0017 - disc_loss: 1.3878 - val_accuracy: 0.3827 - val_ssim2: 0.9408 - val_psnr2: 0.2174\n",
      "Epoch 24/200\n",
      "360/360 [==============================] - 81s 224ms/step - gen_total_loss: 0.8492 - gen_gan_loss: 0.6939 - gen_l1_loss: 0.0016 - disc_loss: 1.3877 - val_accuracy: 0.3646 - val_ssim2: 0.9397 - val_psnr2: 0.2164\n",
      "Epoch 25/200\n",
      "360/360 [==============================] - 80s 221ms/step - gen_total_loss: 0.8414 - gen_gan_loss: 0.6939 - gen_l1_loss: 0.0015 - disc_loss: 1.3878 - val_accuracy: 0.3284 - val_ssim2: 0.9405 - val_psnr2: 0.2162\n",
      "Epoch 26/200\n",
      "360/360 [==============================] - 81s 224ms/step - gen_total_loss: 0.8371 - gen_gan_loss: 0.6940 - gen_l1_loss: 0.0014 - disc_loss: 1.3878 - val_accuracy: 0.3083 - val_ssim2: 0.9428 - val_psnr2: 0.2205\n",
      "Epoch 27/200\n",
      "360/360 [==============================] - 81s 224ms/step - gen_total_loss: 0.8328 - gen_gan_loss: 0.6939 - gen_l1_loss: 0.0014 - disc_loss: 1.3877 - val_accuracy: 0.4410 - val_ssim2: 0.9407 - val_psnr2: 0.2170\n",
      "Epoch 28/200\n",
      "360/360 [==============================] - 80s 222ms/step - gen_total_loss: 0.8287 - gen_gan_loss: 0.6939 - gen_l1_loss: 0.0013 - disc_loss: 1.3876 - val_accuracy: 0.5473 - val_ssim2: 0.9404 - val_psnr2: 0.2168\n",
      "Epoch 29/200\n",
      "360/360 [==============================] - 81s 225ms/step - gen_total_loss: 0.8256 - gen_gan_loss: 0.6940 - gen_l1_loss: 0.0013 - disc_loss: 1.3878 - val_accuracy: 0.2357 - val_ssim2: 0.9404 - val_psnr2: 0.2171\n",
      "Epoch 30/200\n",
      "360/360 [==============================] - 81s 225ms/step - gen_total_loss: 0.9122 - gen_gan_loss: 0.6944 - gen_l1_loss: 0.0022 - disc_loss: 1.3875 - val_accuracy: 0.4316 - val_ssim2: 0.9198 - val_psnr2: 0.1879\n",
      "Epoch 31/200\n",
      "360/360 [==============================] - 81s 224ms/step - gen_total_loss: 0.8659 - gen_gan_loss: 0.6941 - gen_l1_loss: 0.0017 - disc_loss: 1.3875 - val_accuracy: 0.2668 - val_ssim2: 0.9411 - val_psnr2: 0.2174\n",
      "Epoch 32/200\n",
      "360/360 [==============================] - 81s 225ms/step - gen_total_loss: 0.8199 - gen_gan_loss: 0.6939 - gen_l1_loss: 0.0013 - disc_loss: 1.3875 - val_accuracy: 0.4117 - val_ssim2: 0.9396 - val_psnr2: 0.2160\n",
      "Epoch 33/200\n",
      "360/360 [==============================] - 81s 225ms/step - gen_total_loss: 0.8157 - gen_gan_loss: 0.6939 - gen_l1_loss: 0.0012 - disc_loss: 1.3876 - val_accuracy: 0.4848 - val_ssim2: 0.9417 - val_psnr2: 0.2192\n",
      "Epoch 34/200\n",
      "360/360 [==============================] - 80s 223ms/step - gen_total_loss: 0.8104 - gen_gan_loss: 0.6939 - gen_l1_loss: 0.0012 - disc_loss: 1.3874 - val_accuracy: 0.3707 - val_ssim2: 0.9414 - val_psnr2: 0.2176\n",
      "Epoch 35/200\n",
      "360/360 [==============================] - 81s 225ms/step - gen_total_loss: 0.8085 - gen_gan_loss: 0.6940 - gen_l1_loss: 0.0011 - disc_loss: 1.3874 - val_accuracy: 0.4160 - val_ssim2: 0.9409 - val_psnr2: 0.2178\n",
      "Epoch 36/200\n",
      "360/360 [==============================] - 81s 225ms/step - gen_total_loss: 0.8066 - gen_gan_loss: 0.6939 - gen_l1_loss: 0.0011 - disc_loss: 1.3874 - val_accuracy: 0.3375 - val_ssim2: 0.9400 - val_psnr2: 0.2170\n",
      "Epoch 37/200\n",
      "360/360 [==============================] - 81s 226ms/step - gen_total_loss: 0.8039 - gen_gan_loss: 0.6940 - gen_l1_loss: 0.0011 - disc_loss: 1.3876 - val_accuracy: 0.5254 - val_ssim2: 0.9418 - val_psnr2: 0.2189\n",
      "Epoch 38/200\n",
      "360/360 [==============================] - 81s 226ms/step - gen_total_loss: 0.8020 - gen_gan_loss: 0.6939 - gen_l1_loss: 0.0011 - disc_loss: 1.3873 - val_accuracy: 0.3371 - val_ssim2: 0.9421 - val_psnr2: 0.2179\n",
      "Epoch 39/200\n",
      "360/360 [==============================] - 81s 225ms/step - gen_total_loss: 0.8003 - gen_gan_loss: 0.6939 - gen_l1_loss: 0.0011 - disc_loss: 1.3874 - val_accuracy: 0.5100 - val_ssim2: 0.9417 - val_psnr2: 0.2196\n",
      "Epoch 40/200\n",
      "360/360 [==============================] - 82s 228ms/step - gen_total_loss: 0.7998 - gen_gan_loss: 0.6941 - gen_l1_loss: 0.0011 - disc_loss: 1.3872 - val_accuracy: 0.3806 - val_ssim2: 0.9430 - val_psnr2: 0.2200\n",
      "Epoch 41/200\n",
      "360/360 [==============================] - 81s 224ms/step - gen_total_loss: 0.7963 - gen_gan_loss: 0.6941 - gen_l1_loss: 0.0010 - disc_loss: 1.3872 - val_accuracy: 0.4105 - val_ssim2: 0.9399 - val_psnr2: 0.2164\n",
      "Epoch 42/200\n",
      "360/360 [==============================] - 84s 233ms/step - gen_total_loss: 0.7961 - gen_gan_loss: 0.6941 - gen_l1_loss: 0.0010 - disc_loss: 1.3871 - val_accuracy: 0.4586 - val_ssim2: 0.9426 - val_psnr2: 0.2190\n",
      "Epoch 43/200\n",
      "360/360 [==============================] - 84s 234ms/step - gen_total_loss: 0.7934 - gen_gan_loss: 0.6942 - gen_l1_loss: 9.9230e-04 - disc_loss: 1.3870 - val_accuracy: 0.3802 - val_ssim2: 0.9427 - val_psnr2: 0.2202\n",
      "Epoch 44/200\n",
      "360/360 [==============================] - 82s 227ms/step - gen_total_loss: 0.7926 - gen_gan_loss: 0.6943 - gen_l1_loss: 9.8281e-04 - disc_loss: 1.3871 - val_accuracy: 0.3795 - val_ssim2: 0.9360 - val_psnr2: 0.2116\n",
      "Epoch 45/200\n",
      "360/360 [==============================] - 81s 226ms/step - gen_total_loss: 0.7912 - gen_gan_loss: 0.6943 - gen_l1_loss: 9.6854e-04 - disc_loss: 1.3867 - val_accuracy: 0.4050 - val_ssim2: 0.9428 - val_psnr2: 0.2204\n",
      "Epoch 46/200\n",
      "360/360 [==============================] - 81s 225ms/step - gen_total_loss: 0.7892 - gen_gan_loss: 0.6944 - gen_l1_loss: 9.4794e-04 - disc_loss: 1.3869 - val_accuracy: 0.4295 - val_ssim2: 0.9406 - val_psnr2: 0.2171\n",
      "Epoch 47/200\n",
      "360/360 [==============================] - 80s 223ms/step - gen_total_loss: 0.7882 - gen_gan_loss: 0.6944 - gen_l1_loss: 9.3777e-04 - disc_loss: 1.3870 - val_accuracy: 0.3549 - val_ssim2: 0.9426 - val_psnr2: 0.2193\n",
      "Epoch 48/200\n",
      "360/360 [==============================] - 81s 224ms/step - gen_total_loss: 0.7858 - gen_gan_loss: 0.6946 - gen_l1_loss: 9.1210e-04 - disc_loss: 1.3866 - val_accuracy: 0.4614 - val_ssim2: 0.9417 - val_psnr2: 0.2184\n",
      "Epoch 49/200\n",
      "360/360 [==============================] - 81s 225ms/step - gen_total_loss: 0.7861 - gen_gan_loss: 0.6947 - gen_l1_loss: 9.1394e-04 - disc_loss: 1.3867 - val_accuracy: 0.4244 - val_ssim2: 0.9428 - val_psnr2: 0.2192\n",
      "Epoch 50/200\n",
      "360/360 [==============================] - 81s 225ms/step - gen_total_loss: 0.7818 - gen_gan_loss: 0.6937 - gen_l1_loss: 8.8112e-04 - disc_loss: 1.3881 - val_accuracy: 0.3973 - val_ssim2: 0.9429 - val_psnr2: 0.2202\n",
      "Epoch 51/200\n",
      "360/360 [==============================] - 81s 224ms/step - gen_total_loss: 0.7795 - gen_gan_loss: 0.6938 - gen_l1_loss: 8.5755e-04 - disc_loss: 1.3872 - val_accuracy: 0.4577 - val_ssim2: 0.9405 - val_psnr2: 0.2165\n",
      "Epoch 52/200\n",
      "360/360 [==============================] - 81s 225ms/step - gen_total_loss: 0.7793 - gen_gan_loss: 0.6944 - gen_l1_loss: 8.4899e-04 - disc_loss: 1.3866 - val_accuracy: 0.3587 - val_ssim2: 0.9409 - val_psnr2: 0.2177\n",
      "Epoch 53/200\n",
      "360/360 [==============================] - 81s 225ms/step - gen_total_loss: 0.9132 - gen_gan_loss: 0.6955 - gen_l1_loss: 0.0022 - disc_loss: 1.3891 - val_accuracy: 0.3350 - val_ssim2: 0.9375 - val_psnr2: 0.2105\n",
      "Epoch 54/200\n",
      "360/360 [==============================] - 80s 223ms/step - gen_total_loss: 0.7827 - gen_gan_loss: 0.6936 - gen_l1_loss: 8.9165e-04 - disc_loss: 1.3871 - val_accuracy: 0.4916 - val_ssim2: 0.9386 - val_psnr2: 0.2132\n",
      "Epoch 55/200\n",
      "360/360 [==============================] - 81s 224ms/step - gen_total_loss: 0.7743 - gen_gan_loss: 0.6937 - gen_l1_loss: 8.0655e-04 - disc_loss: 1.3872 - val_accuracy: 0.4021 - val_ssim2: 0.9413 - val_psnr2: 0.2166\n",
      "Epoch 56/200\n",
      "360/360 [==============================] - 80s 223ms/step - gen_total_loss: 0.7717 - gen_gan_loss: 0.6936 - gen_l1_loss: 7.8031e-04 - disc_loss: 1.3871 - val_accuracy: 0.4750 - val_ssim2: 0.9390 - val_psnr2: 0.2153\n",
      "Epoch 57/200\n",
      "360/360 [==============================] - 80s 223ms/step - gen_total_loss: 0.7702 - gen_gan_loss: 0.6937 - gen_l1_loss: 7.6502e-04 - disc_loss: 1.3871 - val_accuracy: 0.4410 - val_ssim2: 0.9411 - val_psnr2: 0.2171\n",
      "Epoch 58/200\n",
      "360/360 [==============================] - 80s 223ms/step - gen_total_loss: 0.7692 - gen_gan_loss: 0.6939 - gen_l1_loss: 7.5371e-04 - disc_loss: 1.3871 - val_accuracy: 0.3783 - val_ssim2: 0.9414 - val_psnr2: 0.2156\n",
      "Epoch 59/200\n",
      "360/360 [==============================] - 80s 223ms/step - gen_total_loss: 0.7689 - gen_gan_loss: 0.6940 - gen_l1_loss: 7.4923e-04 - disc_loss: 1.3868 - val_accuracy: 0.4505 - val_ssim2: 0.9398 - val_psnr2: 0.2159\n",
      "Epoch 60/200\n",
      "360/360 [==============================] - 80s 223ms/step - gen_total_loss: 0.7691 - gen_gan_loss: 0.6944 - gen_l1_loss: 7.4656e-04 - disc_loss: 1.3868 - val_accuracy: 0.4423 - val_ssim2: 0.9427 - val_psnr2: 0.2195\n",
      "Epoch 61/200\n",
      "360/360 [==============================] - 81s 224ms/step - gen_total_loss: 0.7694 - gen_gan_loss: 0.6946 - gen_l1_loss: 7.4809e-04 - disc_loss: 1.3872 - val_accuracy: 0.5033 - val_ssim2: 0.9389 - val_psnr2: 0.2138\n",
      "Epoch 62/200\n",
      "360/360 [==============================] - 81s 224ms/step - gen_total_loss: 0.7695 - gen_gan_loss: 0.6949 - gen_l1_loss: 7.4576e-04 - disc_loss: 1.3858 - val_accuracy: 0.3745 - val_ssim2: 0.9404 - val_psnr2: 0.2155\n",
      "Epoch 63/200\n",
      "360/360 [==============================] - 80s 222ms/step - gen_total_loss: 0.7724 - gen_gan_loss: 0.6961 - gen_l1_loss: 7.6278e-04 - disc_loss: 1.3860 - val_accuracy: 0.5504 - val_ssim2: 0.9405 - val_psnr2: 0.2160\n",
      "Epoch 64/200\n",
      "360/360 [==============================] - 81s 224ms/step - gen_total_loss: 0.7772 - gen_gan_loss: 0.6982 - gen_l1_loss: 7.9011e-04 - disc_loss: 1.3856 - val_accuracy: 0.2610 - val_ssim2: 0.9411 - val_psnr2: 0.2176\n",
      "Epoch 65/200\n",
      "360/360 [==============================] - 80s 223ms/step - gen_total_loss: 0.8150 - gen_gan_loss: 0.7134 - gen_l1_loss: 0.0010 - disc_loss: 1.3782 - val_accuracy: 0.5558 - val_ssim2: 0.9379 - val_psnr2: 0.2126\n",
      "Epoch 66/200\n",
      "360/360 [==============================] - 81s 224ms/step - gen_total_loss: 0.9042 - gen_gan_loss: 0.7500 - gen_l1_loss: 0.0015 - disc_loss: 1.3432 - val_accuracy: 0.3013 - val_ssim2: 0.9338 - val_psnr2: 0.2090\n",
      "Epoch 67/200\n",
      "360/360 [==============================] - 81s 225ms/step - gen_total_loss: 0.9742 - gen_gan_loss: 0.7999 - gen_l1_loss: 0.0017 - disc_loss: 1.3085 - val_accuracy: 0.3332 - val_ssim2: 0.9324 - val_psnr2: 0.2066\n",
      "Epoch 68/200\n",
      "360/360 [==============================] - 81s 224ms/step - gen_total_loss: 0.9300 - gen_gan_loss: 0.7844 - gen_l1_loss: 0.0015 - disc_loss: 1.3160 - val_accuracy: 0.5208 - val_ssim2: 0.9372 - val_psnr2: 0.2121\n",
      "Epoch 69/200\n",
      "360/360 [==============================] - 81s 226ms/step - gen_total_loss: 0.9544 - gen_gan_loss: 0.8068 - gen_l1_loss: 0.0015 - disc_loss: 1.2821 - val_accuracy: 0.3135 - val_ssim2: 0.9386 - val_psnr2: 0.2154\n",
      "Epoch 70/200\n",
      "360/360 [==============================] - 81s 226ms/step - gen_total_loss: 0.9621 - gen_gan_loss: 0.8080 - gen_l1_loss: 0.0015 - disc_loss: 1.2940 - val_accuracy: 0.4982 - val_ssim2: 0.9342 - val_psnr2: 0.2093\n",
      "Epoch 71/200\n",
      "360/360 [==============================] - 81s 224ms/step - gen_total_loss: 1.0350 - gen_gan_loss: 0.8400 - gen_l1_loss: 0.0020 - disc_loss: 1.2624 - val_accuracy: 0.2019 - val_ssim2: 0.9378 - val_psnr2: 0.2154\n",
      "Epoch 72/200\n",
      "360/360 [==============================] - 81s 224ms/step - gen_total_loss: 1.0058 - gen_gan_loss: 0.8363 - gen_l1_loss: 0.0017 - disc_loss: 1.2597 - val_accuracy: 0.4304 - val_ssim2: 0.9402 - val_psnr2: 0.2174\n",
      "Epoch 73/200\n",
      "360/360 [==============================] - 81s 225ms/step - gen_total_loss: 1.0010 - gen_gan_loss: 0.8423 - gen_l1_loss: 0.0016 - disc_loss: 1.2521 - val_accuracy: 0.4315 - val_ssim2: 0.9352 - val_psnr2: 0.2097\n",
      "Epoch 74/200\n",
      "360/360 [==============================] - 80s 223ms/step - gen_total_loss: 1.0032 - gen_gan_loss: 0.8492 - gen_l1_loss: 0.0015 - disc_loss: 1.2472 - val_accuracy: 0.3959 - val_ssim2: 0.9382 - val_psnr2: 0.2144\n",
      "Epoch 75/200\n",
      "360/360 [==============================] - 80s 223ms/step - gen_total_loss: 1.0109 - gen_gan_loss: 0.8488 - gen_l1_loss: 0.0016 - disc_loss: 1.2455 - val_accuracy: 0.1419 - val_ssim2: 0.9389 - val_psnr2: 0.2151\n",
      "Epoch 76/200\n",
      "360/360 [==============================] - 80s 223ms/step - gen_total_loss: 1.0540 - gen_gan_loss: 0.8751 - gen_l1_loss: 0.0018 - disc_loss: 1.2227 - val_accuracy: 0.2761 - val_ssim2: 0.9372 - val_psnr2: 0.2125\n",
      "Epoch 77/200\n",
      "360/360 [==============================] - 81s 224ms/step - gen_total_loss: 0.9679 - gen_gan_loss: 0.8294 - gen_l1_loss: 0.0014 - disc_loss: 1.2703 - val_accuracy: 0.3731 - val_ssim2: 0.9403 - val_psnr2: 0.2166\n",
      "Epoch 78/200\n",
      "360/360 [==============================] - 81s 224ms/step - gen_total_loss: 1.0196 - gen_gan_loss: 0.8760 - gen_l1_loss: 0.0014 - disc_loss: 1.2247 - val_accuracy: 0.2863 - val_ssim2: 0.9391 - val_psnr2: 0.2145\n",
      "Epoch 79/200\n",
      "360/360 [==============================] - 81s 225ms/step - gen_total_loss: 0.9689 - gen_gan_loss: 0.8346 - gen_l1_loss: 0.0013 - disc_loss: 1.2654 - val_accuracy: 0.2560 - val_ssim2: 0.9397 - val_psnr2: 0.2153\n",
      "Epoch 80/200\n",
      "360/360 [==============================] - 80s 223ms/step - gen_total_loss: 0.9990 - gen_gan_loss: 0.8587 - gen_l1_loss: 0.0014 - disc_loss: 1.2467 - val_accuracy: 0.2319 - val_ssim2: 0.9384 - val_psnr2: 0.2150\n",
      "Epoch 81/200\n",
      "360/360 [==============================] - 81s 225ms/step - gen_total_loss: 0.9639 - gen_gan_loss: 0.8354 - gen_l1_loss: 0.0013 - disc_loss: 1.2583 - val_accuracy: 0.3809 - val_ssim2: 0.9391 - val_psnr2: 0.2155\n",
      "Epoch 82/200\n",
      "360/360 [==============================] - 80s 222ms/step - gen_total_loss: 0.9600 - gen_gan_loss: 0.8333 - gen_l1_loss: 0.0013 - disc_loss: 1.2695 - val_accuracy: 0.2891 - val_ssim2: 0.9388 - val_psnr2: 0.2148\n",
      "Epoch 83/200\n",
      "360/360 [==============================] - 81s 224ms/step - gen_total_loss: 1.0067 - gen_gan_loss: 0.8600 - gen_l1_loss: 0.0015 - disc_loss: 1.2435 - val_accuracy: 0.3968 - val_ssim2: 0.9386 - val_psnr2: 0.2150\n",
      "Epoch 84/200\n",
      "360/360 [==============================] - 81s 226ms/step - gen_total_loss: 0.9343 - gen_gan_loss: 0.8090 - gen_l1_loss: 0.0013 - disc_loss: 1.2980 - val_accuracy: 0.1891 - val_ssim2: 0.9413 - val_psnr2: 0.2189\n",
      "Epoch 85/200\n",
      "360/360 [==============================] - 80s 223ms/step - gen_total_loss: 0.9387 - gen_gan_loss: 0.8065 - gen_l1_loss: 0.0013 - disc_loss: 1.2973 - val_accuracy: 0.5123 - val_ssim2: 0.9355 - val_psnr2: 0.2105\n",
      "Epoch 86/200\n",
      "360/360 [==============================] - 81s 224ms/step - gen_total_loss: 0.9264 - gen_gan_loss: 0.8022 - gen_l1_loss: 0.0012 - disc_loss: 1.2948 - val_accuracy: 0.2554 - val_ssim2: 0.9405 - val_psnr2: 0.2176\n",
      "Epoch 87/200\n",
      "360/360 [==============================] - 81s 225ms/step - gen_total_loss: 0.8996 - gen_gan_loss: 0.7839 - gen_l1_loss: 0.0012 - disc_loss: 1.3078 - val_accuracy: 0.7479 - val_ssim2: 0.9381 - val_psnr2: 0.2129\n",
      "Epoch 88/200\n",
      "360/360 [==============================] - 81s 225ms/step - gen_total_loss: 0.8946 - gen_gan_loss: 0.7808 - gen_l1_loss: 0.0011 - disc_loss: 1.3243 - val_accuracy: 0.2377 - val_ssim2: 0.9400 - val_psnr2: 0.2168\n",
      "Epoch 89/200\n",
      "360/360 [==============================] - 81s 226ms/step - gen_total_loss: 0.9021 - gen_gan_loss: 0.7919 - gen_l1_loss: 0.0011 - disc_loss: 1.2967 - val_accuracy: 0.1454 - val_ssim2: 0.9433 - val_psnr2: 0.2205\n",
      "Epoch 90/200\n",
      "360/360 [==============================] - 81s 224ms/step - gen_total_loss: 0.9525 - gen_gan_loss: 0.8289 - gen_l1_loss: 0.0012 - disc_loss: 1.2668 - val_accuracy: 0.2963 - val_ssim2: 0.9380 - val_psnr2: 0.2136\n",
      "Epoch 91/200\n",
      "360/360 [==============================] - 82s 228ms/step - gen_total_loss: 0.9334 - gen_gan_loss: 0.8130 - gen_l1_loss: 0.0012 - disc_loss: 1.2903 - val_accuracy: 0.2869 - val_ssim2: 0.9395 - val_psnr2: 0.2161\n",
      "Epoch 92/200\n",
      "360/360 [==============================] - 81s 225ms/step - gen_total_loss: 0.9213 - gen_gan_loss: 0.8141 - gen_l1_loss: 0.0011 - disc_loss: 1.2732 - val_accuracy: 0.2704 - val_ssim2: 0.9396 - val_psnr2: 0.2149\n",
      "Epoch 93/200\n",
      "360/360 [==============================] - 81s 225ms/step - gen_total_loss: 0.8916 - gen_gan_loss: 0.7896 - gen_l1_loss: 0.0010 - disc_loss: 1.3016 - val_accuracy: 0.4368 - val_ssim2: 0.9388 - val_psnr2: 0.2146\n",
      "Epoch 94/200\n",
      "360/360 [==============================] - 81s 226ms/step - gen_total_loss: 0.8970 - gen_gan_loss: 0.7984 - gen_l1_loss: 9.8616e-04 - disc_loss: 1.2938 - val_accuracy: 0.2734 - val_ssim2: 0.9397 - val_psnr2: 0.2157\n",
      "Epoch 95/200\n",
      "360/360 [==============================] - 80s 222ms/step - gen_total_loss: 0.9126 - gen_gan_loss: 0.8101 - gen_l1_loss: 0.0010 - disc_loss: 1.2778 - val_accuracy: 0.3173 - val_ssim2: 0.9396 - val_psnr2: 0.2149\n",
      "Epoch 96/200\n",
      "360/360 [==============================] - 80s 222ms/step - gen_total_loss: 0.9422 - gen_gan_loss: 0.8317 - gen_l1_loss: 0.0011 - disc_loss: 1.2665 - val_accuracy: 0.4554 - val_ssim2: 0.9230 - val_psnr2: 0.1937\n",
      "Epoch 97/200\n",
      "360/360 [==============================] - 80s 223ms/step - gen_total_loss: 0.9254 - gen_gan_loss: 0.8183 - gen_l1_loss: 0.0011 - disc_loss: 1.2657 - val_accuracy: 0.3407 - val_ssim2: 0.9405 - val_psnr2: 0.2157\n",
      "Epoch 98/200\n",
      "360/360 [==============================] - 81s 224ms/step - gen_total_loss: 0.9237 - gen_gan_loss: 0.8279 - gen_l1_loss: 9.5868e-04 - disc_loss: 1.2614 - val_accuracy: 0.3767 - val_ssim2: 0.9388 - val_psnr2: 0.2145\n",
      "Epoch 99/200\n",
      "360/360 [==============================] - 81s 226ms/step - gen_total_loss: 0.9487 - gen_gan_loss: 0.8166 - gen_l1_loss: 0.0013 - disc_loss: 1.2768 - val_accuracy: 0.1955 - val_ssim2: 0.9392 - val_psnr2: 0.2152\n",
      "Epoch 100/200\n",
      "360/360 [==============================] - 81s 225ms/step - gen_total_loss: 0.9261 - gen_gan_loss: 0.8066 - gen_l1_loss: 0.0012 - disc_loss: 1.2863 - val_accuracy: 0.3165 - val_ssim2: 0.9375 - val_psnr2: 0.2131\n",
      "Epoch 101/200\n",
      "360/360 [==============================] - 81s 224ms/step - gen_total_loss: 0.9447 - gen_gan_loss: 0.8378 - gen_l1_loss: 0.0011 - disc_loss: 1.2518 - val_accuracy: 0.4015 - val_ssim2: 0.9412 - val_psnr2: 0.2174\n",
      "Epoch 102/200\n",
      "360/360 [==============================] - 80s 222ms/step - gen_total_loss: 0.9331 - gen_gan_loss: 0.8252 - gen_l1_loss: 0.0011 - disc_loss: 1.2683 - val_accuracy: 0.2965 - val_ssim2: 0.9400 - val_psnr2: 0.2154\n",
      "Epoch 103/200\n",
      "360/360 [==============================] - 80s 223ms/step - gen_total_loss: 0.9045 - gen_gan_loss: 0.8067 - gen_l1_loss: 9.7736e-04 - disc_loss: 1.2835 - val_accuracy: 0.3726 - val_ssim2: 0.9369 - val_psnr2: 0.2125\n",
      "Epoch 104/200\n",
      "360/360 [==============================] - 80s 223ms/step - gen_total_loss: 0.9083 - gen_gan_loss: 0.8077 - gen_l1_loss: 0.0010 - disc_loss: 1.2780 - val_accuracy: 0.3369 - val_ssim2: 0.9404 - val_psnr2: 0.2157\n",
      "Epoch 105/200\n",
      "360/360 [==============================] - 80s 223ms/step - gen_total_loss: 0.8990 - gen_gan_loss: 0.8078 - gen_l1_loss: 9.1250e-04 - disc_loss: 1.2678 - val_accuracy: 0.3703 - val_ssim2: 0.9399 - val_psnr2: 0.2153\n",
      "Epoch 106/200\n",
      "360/360 [==============================] - 81s 224ms/step - gen_total_loss: 0.8919 - gen_gan_loss: 0.8021 - gen_l1_loss: 8.9842e-04 - disc_loss: 1.2774 - val_accuracy: 0.3328 - val_ssim2: 0.9368 - val_psnr2: 0.2104\n",
      "Epoch 107/200\n",
      "141/360 [==========>...................] - ETA: 42s - gen_total_loss: 0.9196 - gen_gan_loss: 0.8244 - gen_l1_loss: 9.5183e-04 - disc_loss: 1.2591"
     ]
    }
   ],
   "source": [
    "init_models(models.allowed['Pix2Pix_model_v6'])"
   ]
  },
  {
   "cell_type": "code",
   "execution_count": null,
   "metadata": {},
   "outputs": [],
   "source": [
    "init_models(models.allowed['segmentation_model_v1'])"
   ]
  },
  {
   "cell_type": "code",
   "execution_count": null,
   "metadata": {},
   "outputs": [],
   "source": [
    "init_models(models.allowed['segmentation_model_v2'])"
   ]
  },
  {
   "cell_type": "code",
   "execution_count": null,
   "metadata": {},
   "outputs": [],
   "source": []
  }
 ],
 "metadata": {
  "kernelspec": {
   "display_name": "deep_learning",
   "language": "python",
   "name": "deep_learning"
  },
  "language_info": {
   "codemirror_mode": {
    "name": "ipython",
    "version": 3
   },
   "file_extension": ".py",
   "mimetype": "text/x-python",
   "name": "python",
   "nbconvert_exporter": "python",
   "pygments_lexer": "ipython3",
   "version": "3.8.5"
  }
 },
 "nbformat": 4,
 "nbformat_minor": 4
}
