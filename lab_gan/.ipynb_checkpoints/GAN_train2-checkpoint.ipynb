{
 "cells": [
  {
   "cell_type": "code",
   "execution_count": 1,
   "metadata": {},
   "outputs": [],
   "source": [
    "%load_ext autoreload\n",
    "%autoreload 2"
   ]
  },
  {
   "cell_type": "code",
   "execution_count": 2,
   "metadata": {},
   "outputs": [],
   "source": [
    "from configGAN import *\n",
    "import setupGPU\n",
    "cfg = flying_objects_config()\n",
    "setupGPU.setup_GPU(cfg)"
   ]
  },
  {
   "cell_type": "code",
   "execution_count": 3,
   "metadata": {},
   "outputs": [
    {
     "name": "stdout",
     "output_type": "stream",
     "text": [
      "creating network model using gpu 0\n"
     ]
    }
   ],
   "source": [
    "import tensorflow as tf\n",
    "from utilsGAN import *\n",
    "from improvedUtils import preprocess, logger"
   ]
  },
  {
   "cell_type": "code",
   "execution_count": 4,
   "metadata": {},
   "outputs": [
    {
     "name": "stdout",
     "output_type": "stream",
     "text": [
      "\n",
      "######################################################################\n",
      "##################### Training Data Statistics #####################\n",
      "######################################################################\n",
      "total image number \t 10817\n",
      "total class number \t 3\n",
      "class square \t 3488 images\n",
      "class circular \t 3626 images\n",
      "class triangle \t 3703 images\n",
      "######################################################################\n",
      "\n",
      "######################################################################\n",
      "##################### Validation Data Statistics #####################\n",
      "######################################################################\n",
      "total image number \t 2241\n",
      "total class number \t 3\n",
      "class triangle \t 745 images\n",
      "class square \t 783 images\n",
      "class circular \t 713 images\n",
      "######################################################################\n",
      "\n",
      "######################################################################\n",
      "##################### Testing Data Statistics #####################\n",
      "######################################################################\n",
      "total image number \t 2220\n",
      "total class number \t 3\n",
      "class triangle \t 733 images\n",
      "class square \t 765 images\n",
      "class circular \t 722 images\n",
      "######################################################################\n"
     ]
    }
   ],
   "source": [
    "show_statistics(cfg.training_data_dir, fineGrained=False, title=\" Training Data Statistics \")\n",
    "show_statistics(cfg.validation_data_dir, fineGrained=False, title=\" Validation Data Statistics \")\n",
    "show_statistics(cfg.testing_data_dir, fineGrained=False, title=\" Testing Data Statistics \")"
   ]
  },
  {
   "cell_type": "markdown",
   "metadata": {},
   "source": [
    "# Define train function"
   ]
  },
  {
   "cell_type": "code",
   "execution_count": 5,
   "metadata": {},
   "outputs": [],
   "source": [
    "def start_training(train_class, model):\n",
    "    log_dir = logger(model.__name__)\n",
    "    print(f\"\\nSetting up training environment: Train: {train_class.__name__} Model: {model.__name__}\\n{'-'*40}\\nlog_dir: {log_dir}\")\n",
    "    train_batch_generator, valid_batch_generator, test_batch_generator, nbr_train_data,nbr_valid_data, nbr_test_data = preprocess(image_shape, normalize_type=model.__norm__, jitter=model.__jitter__, cfg=cfg)\n",
    "    gan = train_class.start_train(\n",
    "        model, \n",
    "        cfg, \n",
    "        log_dir=log_dir,\n",
    "        train_batch_generator=train_batch_generator,\n",
    "        valid_batch_generator=valid_batch_generator,\n",
    "        nbr_train_data=nbr_train_data,\n",
    "        nbr_valid_data=nbr_valid_data\n",
    "    )\n",
    "    return gan\n",
    "\n",
    "def init_models(model_class):\n",
    "    train_class = train_class = train.allowed[model_class.__train__]\n",
    "    start_training(train_class, model_class(image_shape))"
   ]
  },
  {
   "cell_type": "markdown",
   "metadata": {},
   "source": [
    "# Model and GAN Architecture"
   ]
  },
  {
   "cell_type": "code",
   "execution_count": 6,
   "metadata": {},
   "outputs": [],
   "source": [
    "import models\n",
    "import train"
   ]
  },
  {
   "cell_type": "code",
   "execution_count": 7,
   "metadata": {},
   "outputs": [
    {
     "name": "stdout",
     "output_type": "stream",
     "text": [
      "Allowed models:\n",
      "------------\n",
      "default_model_v0\n",
      "Pix2Pix_model_v1\n",
      "Pix2Pix_model_v10\n",
      "Pix2Pix_model_v11\n",
      "Pix2Pix_model_v12\n",
      "Pix2Pix_model_v2\n",
      "Pix2Pix_model_v3\n",
      "Pix2Pix_model_v5\n",
      "Pix2Pix_model_v6\n",
      "Pix2Pix_model_v7\n",
      "Pix2Pix_model_v8\n",
      "Pix2Pix_model_v9\n",
      "Pix2Pix_wasserstein_model_v4\n",
      "segmentation_model_v1\n",
      "segmentation_model_v2\n",
      "\n",
      "Allowed train:\n",
      "------------\n",
      "pix2pix_minibatches\n",
      "pix2pix\n",
      "wasserstein\n"
     ]
    }
   ],
   "source": [
    "print(\"Allowed models:\\n------------\",*models.allowed, sep=\"\\n\")\n",
    "print(\"\\nAllowed train:\\n------------\",*train.allowed, sep=\"\\n\")"
   ]
  },
  {
   "cell_type": "markdown",
   "metadata": {},
   "source": [
    "# Set model"
   ]
  },
  {
   "cell_type": "code",
   "execution_count": 8,
   "metadata": {},
   "outputs": [],
   "source": [
    "image_shape = (cfg.IMAGE_HEIGHT, cfg.IMAGE_WIDTH, cfg.IMAGE_CHANNEL)"
   ]
  },
  {
   "cell_type": "code",
   "execution_count": 9,
   "metadata": {},
   "outputs": [],
   "source": [
    "#model_class = models.allowed['default_model_v0']\n",
    "#train_class = train.allowed[models.allowed['default_model_v0'].__train__]\n",
    "#model = model_class(image_shape)"
   ]
  },
  {
   "cell_type": "markdown",
   "metadata": {},
   "source": [
    "# Train Models"
   ]
  },
  {
   "cell_type": "code",
   "execution_count": 10,
   "metadata": {},
   "outputs": [],
   "source": [
    "#for model_class in list(models.allowed.values())[5:7]:\n",
    "#    train_class = train_class = train.allowed[model_class.__train__]\n",
    "#    start_training(train_class, model_class(image_shape))"
   ]
  },
  {
   "cell_type": "code",
   "execution_count": null,
   "metadata": {},
   "outputs": [
    {
     "name": "stdout",
     "output_type": "stream",
     "text": [
      "\n",
      "Setting up training environment: Train: pix2pix Model: Pix2Pix_model_v2\n",
      "----------------------------------------\n",
      "log_dir: ./logs/20210106-152447.Pix2Pix_model_v2\n",
      "train_x (30, 128, 128, 3) float32 -1.0 1.0\n",
      "train_y (30, 128, 128, 3) float32 -1.0 1.0\n",
      "{'BATCH_SIZE': 30,\n",
      " 'DATA_AUGMENTATION': True,\n",
      " 'DEBUG_MODE': True,\n",
      " 'DROPOUT_PROB': 0.5,\n",
      " 'GPU': 0,\n",
      " 'IMAGE_CHANNEL': 3,\n",
      " 'IMAGE_HEIGHT': 128,\n",
      " 'IMAGE_WIDTH': 128,\n",
      " 'LEARNING_RATE': 0.01,\n",
      " 'LR_DECAY_FACTOR': 0.1,\n",
      " 'NUM_EPOCHS': 200,\n",
      " 'PRINT_EVERY': 50,\n",
      " 'SAVE_EVERY': 1,\n",
      " 'SEQUENCE_LENGTH': 10,\n",
      " 'testing_data_dir': '../data/FlyingObjectDataset_10K/testing',\n",
      " 'training_data_dir': '../data/FlyingObjectDataset_10K/training',\n",
      " 'validation_data_dir': '../data/FlyingObjectDataset_10K/validation'}\n",
      "\n",
      "Starting to train model..\n",
      "Epoch 1/200\n",
      "  1/360 [..............................] - ETA: 0s - gen_total_loss: 100.3324 - gen_gan_loss: 0.9969 - gen_l1_loss: 0.9934 - disc_loss: 1.8554WARNING:tensorflow:From /home/stud/f/fremar16/miniconda3/envs/lab/lib/python3.8/site-packages/tensorflow/python/ops/summary_ops_v2.py:1277: stop (from tensorflow.python.eager.profiler) is deprecated and will be removed after 2020-07-01.\n",
      "Instructions for updating:\n",
      "use `tf.profiler.experimental.stop` instead.\n",
      "360/360 [==============================] - 279s 775ms/step - gen_total_loss: 10.4740 - gen_gan_loss: 1.1164 - gen_l1_loss: 0.0936 - disc_loss: 1.4104 - val_accuracy: 0.7598 - val_ssim2: 0.8552 - val_psnr2: 0.1371\n",
      "Epoch 2/200\n",
      "360/360 [==============================] - 278s 773ms/step - gen_total_loss: 5.4713 - gen_gan_loss: 0.8598 - gen_l1_loss: 0.0461 - disc_loss: 1.4047 - val_accuracy: 0.6478 - val_ssim2: 0.9419 - val_psnr2: 0.2191\n",
      "Epoch 3/200\n",
      "360/360 [==============================] - 273s 759ms/step - gen_total_loss: 4.8357 - gen_gan_loss: 0.8042 - gen_l1_loss: 0.0403 - disc_loss: 1.3879 - val_accuracy: 0.5138 - val_ssim2: 0.9479 - val_psnr2: 0.2260\n",
      "Epoch 4/200\n",
      "360/360 [==============================] - 276s 767ms/step - gen_total_loss: 4.4994 - gen_gan_loss: 0.7964 - gen_l1_loss: 0.0370 - disc_loss: 1.3778 - val_accuracy: 0.4392 - val_ssim2: 0.9386 - val_psnr2: 0.2100\n",
      "Epoch 5/200\n",
      "360/360 [==============================] - 277s 769ms/step - gen_total_loss: 4.1830 - gen_gan_loss: 0.7951 - gen_l1_loss: 0.0339 - disc_loss: 1.3732 - val_accuracy: 0.6731 - val_ssim2: 0.9519 - val_psnr2: 0.2289\n",
      "Epoch 6/200\n",
      "360/360 [==============================] - 273s 758ms/step - gen_total_loss: 3.9145 - gen_gan_loss: 0.7880 - gen_l1_loss: 0.0313 - disc_loss: 1.3820 - val_accuracy: 0.4106 - val_ssim2: 0.9529 - val_psnr2: 0.2283\n",
      "Epoch 7/200\n",
      "360/360 [==============================] - 276s 767ms/step - gen_total_loss: 3.6596 - gen_gan_loss: 0.7769 - gen_l1_loss: 0.0288 - disc_loss: 1.3788 - val_accuracy: 0.5261 - val_ssim2: 0.9525 - val_psnr2: 0.2301\n",
      "Epoch 8/200\n",
      "360/360 [==============================] - 277s 768ms/step - gen_total_loss: 3.4412 - gen_gan_loss: 0.7656 - gen_l1_loss: 0.0268 - disc_loss: 1.3807 - val_accuracy: 0.5334 - val_ssim2: 0.9510 - val_psnr2: 0.2290\n",
      "Epoch 9/200\n",
      "360/360 [==============================] - 273s 758ms/step - gen_total_loss: 3.2895 - gen_gan_loss: 0.7520 - gen_l1_loss: 0.0254 - disc_loss: 1.3836 - val_accuracy: 0.2934 - val_ssim2: 0.9564 - val_psnr2: 0.2350\n",
      "Epoch 10/200\n",
      "360/360 [==============================] - 276s 768ms/step - gen_total_loss: 3.0962 - gen_gan_loss: 0.7512 - gen_l1_loss: 0.0235 - disc_loss: 1.3831 - val_accuracy: 0.3778 - val_ssim2: 0.9580 - val_psnr2: 0.2369\n",
      "Epoch 11/200\n",
      "360/360 [==============================] - 109s 304ms/step - gen_total_loss: 2.9612 - gen_gan_loss: 0.7459 - gen_l1_loss: 0.0222 - disc_loss: 1.3805 - val_accuracy: 0.3033 - val_ssim2: 0.9542 - val_psnr2: 0.2286\n",
      "Epoch 12/200\n",
      "360/360 [==============================] - 90s 250ms/step - gen_total_loss: 2.8155 - gen_gan_loss: 0.7453 - gen_l1_loss: 0.0207 - disc_loss: 1.3824 - val_accuracy: 0.8604 - val_ssim2: 0.9266 - val_psnr2: 0.2019\n",
      "Epoch 13/200\n",
      "360/360 [==============================] - 90s 249ms/step - gen_total_loss: 2.7625 - gen_gan_loss: 0.7358 - gen_l1_loss: 0.0203 - disc_loss: 1.3820 - val_accuracy: 0.4544 - val_ssim2: 0.9647 - val_psnr2: 0.2480\n",
      "Epoch 14/200\n",
      "360/360 [==============================] - 90s 249ms/step - gen_total_loss: 2.6259 - gen_gan_loss: 0.7359 - gen_l1_loss: 0.0189 - disc_loss: 1.3782 - val_accuracy: 0.3187 - val_ssim2: 0.9623 - val_psnr2: 0.2473\n",
      "Epoch 15/200\n",
      "360/360 [==============================] - 89s 247ms/step - gen_total_loss: 2.5780 - gen_gan_loss: 0.7371 - gen_l1_loss: 0.0184 - disc_loss: 1.3796 - val_accuracy: 0.3263 - val_ssim2: 0.9587 - val_psnr2: 0.2415\n",
      "Epoch 16/200\n",
      "360/360 [==============================] - 89s 246ms/step - gen_total_loss: 2.4905 - gen_gan_loss: 0.7340 - gen_l1_loss: 0.0176 - disc_loss: 1.3812 - val_accuracy: 0.3315 - val_ssim2: 0.9654 - val_psnr2: 0.2505\n",
      "Epoch 17/200\n",
      "360/360 [==============================] - 89s 248ms/step - gen_total_loss: 2.4481 - gen_gan_loss: 0.7289 - gen_l1_loss: 0.0172 - disc_loss: 1.3781 - val_accuracy: 0.1716 - val_ssim2: 0.9603 - val_psnr2: 0.2402\n",
      "Epoch 18/200\n",
      "360/360 [==============================] - 89s 247ms/step - gen_total_loss: 2.3949 - gen_gan_loss: 0.7313 - gen_l1_loss: 0.0166 - disc_loss: 1.3783 - val_accuracy: 0.2430 - val_ssim2: 0.9431 - val_psnr2: 0.2198\n",
      "Epoch 19/200\n",
      "360/360 [==============================] - 89s 247ms/step - gen_total_loss: 2.3505 - gen_gan_loss: 0.7309 - gen_l1_loss: 0.0162 - disc_loss: 1.3761 - val_accuracy: 0.4251 - val_ssim2: 0.8997 - val_psnr2: 0.1545\n",
      "Epoch 20/200\n",
      "360/360 [==============================] - 91s 251ms/step - gen_total_loss: 2.3323 - gen_gan_loss: 0.7306 - gen_l1_loss: 0.0160 - disc_loss: 1.3814 - val_accuracy: 0.6731 - val_ssim2: 0.9635 - val_psnr2: 0.2480\n",
      "Epoch 21/200\n",
      "360/360 [==============================] - 91s 253ms/step - gen_total_loss: 2.2618 - gen_gan_loss: 0.7285 - gen_l1_loss: 0.0153 - disc_loss: 1.3771 - val_accuracy: 0.3436 - val_ssim2: 0.9645 - val_psnr2: 0.2512\n",
      "Epoch 22/200\n",
      "360/360 [==============================] - 90s 249ms/step - gen_total_loss: 2.2537 - gen_gan_loss: 0.7302 - gen_l1_loss: 0.0152 - disc_loss: 1.3770 - val_accuracy: 0.3357 - val_ssim2: 0.9631 - val_psnr2: 0.2475\n",
      "Epoch 23/200\n",
      "360/360 [==============================] - 90s 251ms/step - gen_total_loss: 2.1771 - gen_gan_loss: 0.7258 - gen_l1_loss: 0.0145 - disc_loss: 1.3783 - val_accuracy: 0.4937 - val_ssim2: 0.9648 - val_psnr2: 0.2517\n",
      "Epoch 24/200\n",
      "360/360 [==============================] - 89s 247ms/step - gen_total_loss: 2.1414 - gen_gan_loss: 0.7277 - gen_l1_loss: 0.0141 - disc_loss: 1.3764 - val_accuracy: 0.6034 - val_ssim2: 0.9676 - val_psnr2: 0.2576\n",
      "Epoch 25/200\n",
      "360/360 [==============================] - 90s 251ms/step - gen_total_loss: 2.0934 - gen_gan_loss: 0.7275 - gen_l1_loss: 0.0137 - disc_loss: 1.3777 - val_accuracy: 0.5089 - val_ssim2: 0.9518 - val_psnr2: 0.2365\n",
      "Epoch 26/200\n",
      "360/360 [==============================] - 89s 248ms/step - gen_total_loss: 2.1139 - gen_gan_loss: 0.7242 - gen_l1_loss: 0.0139 - disc_loss: 1.3768 - val_accuracy: 0.7632 - val_ssim2: 0.9591 - val_psnr2: 0.2350\n",
      "Epoch 27/200\n",
      "360/360 [==============================] - 91s 253ms/step - gen_total_loss: 2.0486 - gen_gan_loss: 0.7281 - gen_l1_loss: 0.0132 - disc_loss: 1.3772 - val_accuracy: 0.5831 - val_ssim2: 0.9631 - val_psnr2: 0.2490\n",
      "Epoch 28/200\n",
      "360/360 [==============================] - 90s 251ms/step - gen_total_loss: 2.0096 - gen_gan_loss: 0.7251 - gen_l1_loss: 0.0128 - disc_loss: 1.3768 - val_accuracy: 0.5418 - val_ssim2: 0.9631 - val_psnr2: 0.2522\n",
      "Epoch 29/200\n",
      "360/360 [==============================] - 90s 251ms/step - gen_total_loss: 1.9890 - gen_gan_loss: 0.7259 - gen_l1_loss: 0.0126 - disc_loss: 1.3758 - val_accuracy: 0.6800 - val_ssim2: 0.9643 - val_psnr2: 0.2532\n",
      "Epoch 30/200\n",
      "360/360 [==============================] - 90s 250ms/step - gen_total_loss: 1.9842 - gen_gan_loss: 0.7254 - gen_l1_loss: 0.0126 - disc_loss: 1.3785 - val_accuracy: 0.3954 - val_ssim2: 0.9634 - val_psnr2: 0.2499\n",
      "Epoch 31/200\n",
      "360/360 [==============================] - 90s 250ms/step - gen_total_loss: 1.9425 - gen_gan_loss: 0.7232 - gen_l1_loss: 0.0122 - disc_loss: 1.3739 - val_accuracy: 0.4641 - val_ssim2: 0.9652 - val_psnr2: 0.2523\n",
      "Epoch 32/200\n",
      "360/360 [==============================] - 90s 250ms/step - gen_total_loss: 1.9097 - gen_gan_loss: 0.7225 - gen_l1_loss: 0.0119 - disc_loss: 1.3768 - val_accuracy: 0.8057 - val_ssim2: 0.9636 - val_psnr2: 0.2486\n",
      "Epoch 33/200\n",
      "360/360 [==============================] - 90s 251ms/step - gen_total_loss: 1.9078 - gen_gan_loss: 0.7256 - gen_l1_loss: 0.0118 - disc_loss: 1.3749 - val_accuracy: 0.8290 - val_ssim2: 0.9604 - val_psnr2: 0.2483\n",
      "Epoch 34/200\n",
      "360/360 [==============================] - 90s 249ms/step - gen_total_loss: 1.9155 - gen_gan_loss: 0.7253 - gen_l1_loss: 0.0119 - disc_loss: 1.3732 - val_accuracy: 0.8622 - val_ssim2: 0.9627 - val_psnr2: 0.2482\n",
      "Epoch 35/200\n",
      "360/360 [==============================] - 89s 248ms/step - gen_total_loss: 1.8637 - gen_gan_loss: 0.7272 - gen_l1_loss: 0.0114 - disc_loss: 1.3759 - val_accuracy: 0.7615 - val_ssim2: 0.9640 - val_psnr2: 0.2504\n",
      "Epoch 36/200\n",
      "360/360 [==============================] - 90s 251ms/step - gen_total_loss: 1.8488 - gen_gan_loss: 0.7238 - gen_l1_loss: 0.0113 - disc_loss: 1.3754 - val_accuracy: 0.7567 - val_ssim2: 0.9686 - val_psnr2: 0.2625\n",
      "Epoch 37/200\n",
      "360/360 [==============================] - 90s 251ms/step - gen_total_loss: 1.8200 - gen_gan_loss: 0.7238 - gen_l1_loss: 0.0110 - disc_loss: 1.3747 - val_accuracy: 0.4191 - val_ssim2: 0.9649 - val_psnr2: 0.2569\n",
      "Epoch 38/200\n",
      "360/360 [==============================] - 91s 252ms/step - gen_total_loss: 1.8699 - gen_gan_loss: 0.7264 - gen_l1_loss: 0.0114 - disc_loss: 1.3748 - val_accuracy: 0.8988 - val_ssim2: 0.9665 - val_psnr2: 0.2555\n",
      "Epoch 39/200\n",
      "360/360 [==============================] - 90s 249ms/step - gen_total_loss: 1.8407 - gen_gan_loss: 0.7271 - gen_l1_loss: 0.0111 - disc_loss: 1.3698 - val_accuracy: 0.6774 - val_ssim2: 0.9678 - val_psnr2: 0.2570\n",
      "Epoch 40/200\n",
      "360/360 [==============================] - 91s 252ms/step - gen_total_loss: 1.7555 - gen_gan_loss: 0.7274 - gen_l1_loss: 0.0103 - disc_loss: 1.3759 - val_accuracy: 0.4581 - val_ssim2: 0.9686 - val_psnr2: 0.2626\n",
      "Epoch 41/200\n",
      "360/360 [==============================] - 90s 250ms/step - gen_total_loss: 1.7334 - gen_gan_loss: 0.7256 - gen_l1_loss: 0.0101 - disc_loss: 1.3748 - val_accuracy: 0.4321 - val_ssim2: 0.9552 - val_psnr2: 0.2391\n",
      "Epoch 42/200\n",
      "360/360 [==============================] - 91s 253ms/step - gen_total_loss: 1.7370 - gen_gan_loss: 0.7268 - gen_l1_loss: 0.0101 - disc_loss: 1.3744 - val_accuracy: 0.3314 - val_ssim2: 0.9604 - val_psnr2: 0.2506\n",
      "Epoch 43/200\n",
      "360/360 [==============================] - 90s 251ms/step - gen_total_loss: 1.7538 - gen_gan_loss: 0.7261 - gen_l1_loss: 0.0103 - disc_loss: 1.3734 - val_accuracy: 0.9107 - val_ssim2: 0.9673 - val_psnr2: 0.2560\n",
      "Epoch 44/200\n",
      "360/360 [==============================] - 91s 252ms/step - gen_total_loss: 1.7359 - gen_gan_loss: 0.7279 - gen_l1_loss: 0.0101 - disc_loss: 1.3728 - val_accuracy: 0.8141 - val_ssim2: 0.9678 - val_psnr2: 0.2584\n",
      "Epoch 45/200\n",
      "360/360 [==============================] - 90s 250ms/step - gen_total_loss: 1.6920 - gen_gan_loss: 0.7283 - gen_l1_loss: 0.0096 - disc_loss: 1.3743 - val_accuracy: 0.5654 - val_ssim2: 0.9692 - val_psnr2: 0.2627\n",
      "Epoch 46/200\n",
      "360/360 [==============================] - 90s 250ms/step - gen_total_loss: 1.7504 - gen_gan_loss: 0.7272 - gen_l1_loss: 0.0102 - disc_loss: 1.3712 - val_accuracy: 0.8201 - val_ssim2: 0.9670 - val_psnr2: 0.2612\n",
      "Epoch 47/200\n",
      "360/360 [==============================] - 90s 249ms/step - gen_total_loss: 1.6822 - gen_gan_loss: 0.7304 - gen_l1_loss: 0.0095 - disc_loss: 1.3716 - val_accuracy: 0.5536 - val_ssim2: 0.9700 - val_psnr2: 0.2641\n",
      "Epoch 48/200\n",
      "360/360 [==============================] - 91s 253ms/step - gen_total_loss: 1.7089 - gen_gan_loss: 0.7292 - gen_l1_loss: 0.0098 - disc_loss: 1.3722 - val_accuracy: 0.9064 - val_ssim2: 0.9657 - val_psnr2: 0.2540\n",
      "Epoch 49/200\n",
      "360/360 [==============================] - 91s 254ms/step - gen_total_loss: 1.6785 - gen_gan_loss: 0.7316 - gen_l1_loss: 0.0095 - disc_loss: 1.3707 - val_accuracy: 0.7403 - val_ssim2: 0.9646 - val_psnr2: 0.2548\n",
      "Epoch 50/200\n",
      "360/360 [==============================] - 91s 252ms/step - gen_total_loss: 1.6733 - gen_gan_loss: 0.7330 - gen_l1_loss: 0.0094 - disc_loss: 1.3686 - val_accuracy: 0.8951 - val_ssim2: 0.9693 - val_psnr2: 0.2630\n",
      "Epoch 51/200\n",
      "360/360 [==============================] - 90s 250ms/step - gen_total_loss: 1.6509 - gen_gan_loss: 0.7353 - gen_l1_loss: 0.0092 - disc_loss: 1.3720 - val_accuracy: 0.8379 - val_ssim2: 0.9630 - val_psnr2: 0.2519\n",
      "Epoch 52/200\n",
      "360/360 [==============================] - 90s 250ms/step - gen_total_loss: 1.6442 - gen_gan_loss: 0.7350 - gen_l1_loss: 0.0091 - disc_loss: 1.3780 - val_accuracy: 0.6890 - val_ssim2: 0.9681 - val_psnr2: 0.2605\n",
      "Epoch 53/200\n",
      "360/360 [==============================] - 91s 253ms/step - gen_total_loss: 1.6155 - gen_gan_loss: 0.7369 - gen_l1_loss: 0.0088 - disc_loss: 1.3664 - val_accuracy: 0.8219 - val_ssim2: 0.9704 - val_psnr2: 0.2650\n",
      "Epoch 54/200\n",
      "360/360 [==============================] - 90s 250ms/step - gen_total_loss: 1.6328 - gen_gan_loss: 0.7376 - gen_l1_loss: 0.0090 - disc_loss: 1.3695 - val_accuracy: 0.8470 - val_ssim2: 0.9697 - val_psnr2: 0.2626\n",
      "Epoch 55/200\n",
      "360/360 [==============================] - 91s 253ms/step - gen_total_loss: 1.6447 - gen_gan_loss: 0.7434 - gen_l1_loss: 0.0090 - disc_loss: 1.3645 - val_accuracy: 0.5234 - val_ssim2: 0.9703 - val_psnr2: 0.2642\n",
      "Epoch 56/200\n",
      "360/360 [==============================] - 90s 250ms/step - gen_total_loss: 1.6395 - gen_gan_loss: 0.7487 - gen_l1_loss: 0.0089 - disc_loss: 1.3582 - val_accuracy: 0.6221 - val_ssim2: 0.9680 - val_psnr2: 0.2587\n",
      "Epoch 57/200\n",
      "360/360 [==============================] - 90s 251ms/step - gen_total_loss: 1.6244 - gen_gan_loss: 0.7531 - gen_l1_loss: 0.0087 - disc_loss: 1.3590 - val_accuracy: 0.5902 - val_ssim2: 0.9598 - val_psnr2: 0.2507\n",
      "Epoch 58/200\n",
      "360/360 [==============================] - 89s 248ms/step - gen_total_loss: 1.6422 - gen_gan_loss: 0.7577 - gen_l1_loss: 0.0088 - disc_loss: 1.3630 - val_accuracy: 0.7407 - val_ssim2: 0.9572 - val_psnr2: 0.2524\n",
      "Epoch 59/200\n",
      "360/360 [==============================] - 90s 249ms/step - gen_total_loss: 1.6566 - gen_gan_loss: 0.7631 - gen_l1_loss: 0.0089 - disc_loss: 1.3511 - val_accuracy: 0.8296 - val_ssim2: 0.9673 - val_psnr2: 0.2561\n",
      "Epoch 60/200\n",
      "360/360 [==============================] - 89s 248ms/step - gen_total_loss: 1.7025 - gen_gan_loss: 0.7724 - gen_l1_loss: 0.0093 - disc_loss: 1.3563 - val_accuracy: 0.8997 - val_ssim2: 0.9685 - val_psnr2: 0.2575\n",
      "Epoch 61/200\n",
      "360/360 [==============================] - 91s 254ms/step - gen_total_loss: 1.6813 - gen_gan_loss: 0.7814 - gen_l1_loss: 0.0090 - disc_loss: 1.3420 - val_accuracy: 0.9313 - val_ssim2: 0.9689 - val_psnr2: 0.2605\n",
      "Epoch 62/200\n",
      "360/360 [==============================] - 90s 250ms/step - gen_total_loss: 1.6640 - gen_gan_loss: 0.7822 - gen_l1_loss: 0.0088 - disc_loss: 1.3529 - val_accuracy: 0.7478 - val_ssim2: 0.9670 - val_psnr2: 0.2615\n",
      "Epoch 63/200\n",
      "360/360 [==============================] - 91s 252ms/step - gen_total_loss: 1.6704 - gen_gan_loss: 0.7819 - gen_l1_loss: 0.0089 - disc_loss: 1.3439 - val_accuracy: 0.8646 - val_ssim2: 0.9671 - val_psnr2: 0.2580\n",
      "Epoch 64/200\n",
      "360/360 [==============================] - 89s 248ms/step - gen_total_loss: 1.6805 - gen_gan_loss: 0.7891 - gen_l1_loss: 0.0089 - disc_loss: 1.3468 - val_accuracy: 0.8112 - val_ssim2: 0.9674 - val_psnr2: 0.2608\n",
      "Epoch 65/200\n",
      "360/360 [==============================] - 90s 251ms/step - gen_total_loss: 1.6786 - gen_gan_loss: 0.7939 - gen_l1_loss: 0.0088 - disc_loss: 1.3317 - val_accuracy: 0.8624 - val_ssim2: 0.9668 - val_psnr2: 0.2539\n",
      "Epoch 66/200\n",
      "360/360 [==============================] - 91s 252ms/step - gen_total_loss: 1.6942 - gen_gan_loss: 0.8143 - gen_l1_loss: 0.0088 - disc_loss: 1.3288 - val_accuracy: 0.7764 - val_ssim2: 0.9674 - val_psnr2: 0.2636\n",
      "Epoch 67/200\n",
      "360/360 [==============================] - 90s 250ms/step - gen_total_loss: 1.7146 - gen_gan_loss: 0.8108 - gen_l1_loss: 0.0090 - disc_loss: 1.3348 - val_accuracy: 0.9215 - val_ssim2: 0.9672 - val_psnr2: 0.2591\n",
      "Epoch 68/200\n",
      "360/360 [==============================] - 91s 253ms/step - gen_total_loss: 1.7246 - gen_gan_loss: 0.8188 - gen_l1_loss: 0.0091 - disc_loss: 1.3288 - val_accuracy: 0.8668 - val_ssim2: 0.9549 - val_psnr2: 0.2346\n",
      "Epoch 69/200\n",
      "360/360 [==============================] - 90s 251ms/step - gen_total_loss: 1.7736 - gen_gan_loss: 0.8329 - gen_l1_loss: 0.0094 - disc_loss: 1.3205 - val_accuracy: 0.8863 - val_ssim2: 0.9675 - val_psnr2: 0.2612\n",
      "Epoch 70/200\n",
      "360/360 [==============================] - 90s 251ms/step - gen_total_loss: 1.7640 - gen_gan_loss: 0.8432 - gen_l1_loss: 0.0092 - disc_loss: 1.3116 - val_accuracy: 0.8286 - val_ssim2: 0.9667 - val_psnr2: 0.2586\n",
      "Epoch 71/200\n",
      "360/360 [==============================] - 90s 250ms/step - gen_total_loss: 1.8434 - gen_gan_loss: 0.8595 - gen_l1_loss: 0.0098 - disc_loss: 1.2919 - val_accuracy: 0.8555 - val_ssim2: 0.9656 - val_psnr2: 0.2571\n",
      "Epoch 72/200\n",
      "360/360 [==============================] - 91s 252ms/step - gen_total_loss: 1.7909 - gen_gan_loss: 0.8512 - gen_l1_loss: 0.0094 - disc_loss: 1.3075 - val_accuracy: 0.8274 - val_ssim2: 0.9704 - val_psnr2: 0.2677\n",
      "Epoch 73/200\n",
      "360/360 [==============================] - 90s 249ms/step - gen_total_loss: 1.8072 - gen_gan_loss: 0.8556 - gen_l1_loss: 0.0095 - disc_loss: 1.3061 - val_accuracy: 0.8717 - val_ssim2: 0.9684 - val_psnr2: 0.2625\n",
      "Epoch 74/200\n",
      "360/360 [==============================] - 90s 250ms/step - gen_total_loss: 1.7910 - gen_gan_loss: 0.8733 - gen_l1_loss: 0.0092 - disc_loss: 1.2948 - val_accuracy: 0.6976 - val_ssim2: 0.9656 - val_psnr2: 0.2600\n",
      "Epoch 75/200\n",
      "360/360 [==============================] - 91s 252ms/step - gen_total_loss: 1.8110 - gen_gan_loss: 0.8700 - gen_l1_loss: 0.0094 - disc_loss: 1.2913 - val_accuracy: 0.8411 - val_ssim2: 0.9688 - val_psnr2: 0.2637\n",
      "Epoch 76/200\n",
      " 82/360 [=====>........................] - ETA: 1:03 - gen_total_loss: 1.8663 - gen_gan_loss: 0.8853 - gen_l1_loss: 0.0098 - disc_loss: 1.2933"
     ]
    }
   ],
   "source": [
    "init_models(models.allowed['Pix2Pix_model_v2'])"
   ]
  },
  {
   "cell_type": "code",
   "execution_count": null,
   "metadata": {},
   "outputs": [],
   "source": [
    "init_models(models.allowed['Pix2Pix_model_v3'])"
   ]
  },
  {
   "cell_type": "code",
   "execution_count": null,
   "metadata": {},
   "outputs": [],
   "source": [
    "init_models(models.allowed['Pix2Pix_model_v12'])"
   ]
  },
  {
   "cell_type": "code",
   "execution_count": null,
   "metadata": {},
   "outputs": [],
   "source": []
  }
 ],
 "metadata": {
  "kernelspec": {
   "display_name": "deep_learning",
   "language": "python",
   "name": "deep_learning"
  },
  "language_info": {
   "codemirror_mode": {
    "name": "ipython",
    "version": 3
   },
   "file_extension": ".py",
   "mimetype": "text/x-python",
   "name": "python",
   "nbconvert_exporter": "python",
   "pygments_lexer": "ipython3",
   "version": "3.8.5"
  }
 },
 "nbformat": 4,
 "nbformat_minor": 4
}
