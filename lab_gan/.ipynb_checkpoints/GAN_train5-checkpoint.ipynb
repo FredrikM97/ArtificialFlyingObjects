{
 "cells": [
  {
   "cell_type": "code",
   "execution_count": 1,
   "metadata": {},
   "outputs": [],
   "source": [
    "%load_ext autoreload\n",
    "%autoreload 2\n",
    "#IPython.display.clear()"
   ]
  },
  {
   "cell_type": "code",
   "execution_count": 2,
   "metadata": {},
   "outputs": [],
   "source": [
    "from configGAN import *\n",
    "import setupGPU\n",
    "cfg = flying_objects_config()\n",
    "setupGPU.setup_GPU(cfg)"
   ]
  },
  {
   "cell_type": "code",
   "execution_count": 3,
   "metadata": {},
   "outputs": [
    {
     "name": "stdout",
     "output_type": "stream",
     "text": [
      "creating network model using gpu 0\n"
     ]
    }
   ],
   "source": [
    "import tensorflow as tf\n",
    "from utilsGAN import *\n",
    "from improvedUtils import preprocess, logger"
   ]
  },
  {
   "cell_type": "code",
   "execution_count": 4,
   "metadata": {},
   "outputs": [
    {
     "name": "stdout",
     "output_type": "stream",
     "text": [
      "\n",
      "######################################################################\n",
      "##################### Training Data Statistics #####################\n",
      "######################################################################\n",
      "total image number \t 10817\n",
      "total class number \t 3\n",
      "class square \t 3488 images\n",
      "class circular \t 3626 images\n",
      "class triangle \t 3703 images\n",
      "######################################################################\n",
      "\n",
      "######################################################################\n",
      "##################### Validation Data Statistics #####################\n",
      "######################################################################\n",
      "total image number \t 2241\n",
      "total class number \t 3\n",
      "class triangle \t 745 images\n",
      "class square \t 783 images\n",
      "class circular \t 713 images\n",
      "######################################################################\n",
      "\n",
      "######################################################################\n",
      "##################### Testing Data Statistics #####################\n",
      "######################################################################\n",
      "total image number \t 2220\n",
      "total class number \t 3\n",
      "class triangle \t 733 images\n",
      "class square \t 765 images\n",
      "class circular \t 722 images\n",
      "######################################################################\n"
     ]
    }
   ],
   "source": [
    "show_statistics(cfg.training_data_dir, fineGrained=False, title=\" Training Data Statistics \")\n",
    "show_statistics(cfg.validation_data_dir, fineGrained=False, title=\" Validation Data Statistics \")\n",
    "show_statistics(cfg.testing_data_dir, fineGrained=False, title=\" Testing Data Statistics \")"
   ]
  },
  {
   "cell_type": "markdown",
   "metadata": {},
   "source": [
    "# Define train function"
   ]
  },
  {
   "cell_type": "code",
   "execution_count": 5,
   "metadata": {},
   "outputs": [],
   "source": [
    "def start_training(train_class, model):\n",
    "    log_dir = logger(model.__name__)\n",
    "    print(f\"\\nSetting up training environment: Train: {train_class.__name__} Model: {model.__name__}\\n{'-'*40}\\nlog_dir: {log_dir}\")\n",
    "    train_batch_generator, valid_batch_generator, test_batch_generator, nbr_train_data,nbr_valid_data, nbr_test_data = preprocess(image_shape, normalize_type=model.__norm__, jitter=model.__jitter__, cfg=cfg)\n",
    "    \n",
    "    gan = train_class.start_train(\n",
    "        model, \n",
    "        cfg, \n",
    "        log_dir=log_dir,\n",
    "        train_batch_generator=train_batch_generator,\n",
    "        valid_batch_generator=valid_batch_generator,\n",
    "        nbr_train_data=nbr_train_data,\n",
    "        nbr_valid_data=nbr_valid_data\n",
    "    )\n",
    "    return gan\n",
    "\n",
    "def init_models(model_class):\n",
    "    train_class = train_class = train.allowed[model_class.__train__]\n",
    "    start_training(train_class, model_class(image_shape))"
   ]
  },
  {
   "cell_type": "markdown",
   "metadata": {},
   "source": [
    "# Model and GAN Architecture"
   ]
  },
  {
   "cell_type": "code",
   "execution_count": 6,
   "metadata": {},
   "outputs": [],
   "source": [
    "import models\n",
    "import train"
   ]
  },
  {
   "cell_type": "code",
   "execution_count": 7,
   "metadata": {},
   "outputs": [
    {
     "name": "stdout",
     "output_type": "stream",
     "text": [
      "Allowed models:\n",
      "------------\n",
      "default_model_v0\n",
      "Pix2Pix_model_v1\n",
      "Pix2Pix_model_v10\n",
      "Pix2Pix_model_v11\n",
      "Pix2Pix_model_v12\n",
      "Pix2Pix_model_v2\n",
      "Pix2Pix_model_v3\n",
      "Pix2Pix_model_v5\n",
      "Pix2Pix_model_v6\n",
      "Pix2Pix_model_v7\n",
      "Pix2Pix_model_v8\n",
      "Pix2Pix_model_v9\n",
      "Pix2Pix_wasserstein_model_v4\n",
      "segmentation_model_v1\n",
      "segmentation_model_v2\n",
      "\n",
      "Allowed train:\n",
      "------------\n",
      "pix2pix_minibatches\n",
      "pix2pix\n",
      "wasserstein\n"
     ]
    }
   ],
   "source": [
    "print(\"Allowed models:\\n------------\",*models.allowed, sep=\"\\n\")\n",
    "print(\"\\nAllowed train:\\n------------\",*train.allowed, sep=\"\\n\")"
   ]
  },
  {
   "cell_type": "markdown",
   "metadata": {},
   "source": [
    "# Set model"
   ]
  },
  {
   "cell_type": "code",
   "execution_count": 8,
   "metadata": {},
   "outputs": [],
   "source": [
    "image_shape = (cfg.IMAGE_HEIGHT, cfg.IMAGE_WIDTH, cfg.IMAGE_CHANNEL)"
   ]
  },
  {
   "cell_type": "code",
   "execution_count": 9,
   "metadata": {},
   "outputs": [],
   "source": [
    "#model_class = models.allowed['Pix2Pix_model_v1']\n",
    "#train_class = train.allowed[model_class.__train__]\n",
    "#start_training(train_class, model_class(image_shape))"
   ]
  },
  {
   "cell_type": "markdown",
   "metadata": {},
   "source": [
    "# Train Models"
   ]
  },
  {
   "cell_type": "code",
   "execution_count": 10,
   "metadata": {},
   "outputs": [],
   "source": [
    "#for model_class in list(models.allowed.values())[6]:\n",
    "#    train_class = train_class = train.allowed[model_class.__train__]\n",
    "#    start_training(train_class, model_class(image_shape))"
   ]
  },
  {
   "cell_type": "code",
   "execution_count": null,
   "metadata": {},
   "outputs": [
    {
     "name": "stdout",
     "output_type": "stream",
     "text": [
      "\n",
      "Setting up training environment: Train: pix2pix Model: Pix2Pix_model_v7\n",
      "----------------------------------------\n",
      "log_dir: ./logs/20210106-153003.Pix2Pix_model_v7\n",
      "train_x (30, 128, 128, 3) float32 -1.0 1.0\n",
      "train_y (30, 128, 128, 3) float32 -1.0 1.0\n",
      "{'BATCH_SIZE': 30,\n",
      " 'DATA_AUGMENTATION': True,\n",
      " 'DEBUG_MODE': True,\n",
      " 'DROPOUT_PROB': 0.5,\n",
      " 'GPU': 0,\n",
      " 'IMAGE_CHANNEL': 3,\n",
      " 'IMAGE_HEIGHT': 128,\n",
      " 'IMAGE_WIDTH': 128,\n",
      " 'LEARNING_RATE': 0.01,\n",
      " 'LR_DECAY_FACTOR': 0.1,\n",
      " 'NUM_EPOCHS': 200,\n",
      " 'PRINT_EVERY': 50,\n",
      " 'SAVE_EVERY': 1,\n",
      " 'SEQUENCE_LENGTH': 10,\n",
      " 'testing_data_dir': '../data/FlyingObjectDataset_10K/testing',\n",
      " 'training_data_dir': '../data/FlyingObjectDataset_10K/training',\n",
      " 'validation_data_dir': '../data/FlyingObjectDataset_10K/validation'}\n",
      "\n",
      "Starting to train model..\n",
      "Epoch 1/200\n",
      "  1/360 [..............................] - ETA: 0s - gen_total_loss: 100.6878 - gen_gan_loss: 0.9398 - gen_l1_loss: 0.9975 - disc_loss: 1.7895WARNING:tensorflow:From /home/stud/f/fremar16/miniconda3/envs/lab/lib/python3.8/site-packages/tensorflow/python/ops/summary_ops_v2.py:1277: stop (from tensorflow.python.eager.profiler) is deprecated and will be removed after 2020-07-01.\n",
      "Instructions for updating:\n",
      "use `tf.profiler.experimental.stop` instead.\n",
      "360/360 [==============================] - 91s 251ms/step - gen_total_loss: 14.1998 - gen_gan_loss: 1.2551 - gen_l1_loss: 0.1294 - disc_loss: 1.1286 - val_accuracy: 0.7693 - val_ssim2: 0.8769 - val_psnr2: 0.1559\n",
      "Epoch 2/200\n",
      "360/360 [==============================] - 92s 255ms/step - gen_total_loss: 5.8374 - gen_gan_loss: 1.0142 - gen_l1_loss: 0.0482 - disc_loss: 1.2325 - val_accuracy: 0.6231 - val_ssim2: 0.8888 - val_psnr2: 0.1567\n",
      "Epoch 3/200\n",
      "360/360 [==============================] - 91s 254ms/step - gen_total_loss: 5.1771 - gen_gan_loss: 0.9632 - gen_l1_loss: 0.0421 - disc_loss: 1.2456 - val_accuracy: 0.2614 - val_ssim2: 0.9349 - val_psnr2: 0.2084\n",
      "Epoch 4/200\n",
      "360/360 [==============================] - 96s 266ms/step - gen_total_loss: 4.7937 - gen_gan_loss: 0.9192 - gen_l1_loss: 0.0387 - disc_loss: 1.2686 - val_accuracy: 0.4929 - val_ssim2: 0.9192 - val_psnr2: 0.1856\n",
      "Epoch 5/200\n",
      "360/360 [==============================] - 95s 264ms/step - gen_total_loss: 4.5585 - gen_gan_loss: 0.9075 - gen_l1_loss: 0.0365 - disc_loss: 1.2661 - val_accuracy: 0.3673 - val_ssim2: 0.9062 - val_psnr2: 0.1684\n",
      "Epoch 6/200\n",
      "360/360 [==============================] - 95s 265ms/step - gen_total_loss: 4.3297 - gen_gan_loss: 0.8819 - gen_l1_loss: 0.0345 - disc_loss: 1.2806 - val_accuracy: 0.2492 - val_ssim2: 0.9193 - val_psnr2: 0.1805\n",
      "Epoch 7/200\n",
      "360/360 [==============================] - 117s 326ms/step - gen_total_loss: 4.0733 - gen_gan_loss: 0.8690 - gen_l1_loss: 0.0320 - disc_loss: 1.2949 - val_accuracy: 0.1475 - val_ssim2: 0.8788 - val_psnr2: 0.1451\n",
      "Epoch 8/200\n",
      "360/360 [==============================] - 128s 357ms/step - gen_total_loss: 3.8308 - gen_gan_loss: 0.8564 - gen_l1_loss: 0.0297 - disc_loss: 1.2951 - val_accuracy: 0.4563 - val_ssim2: 0.9317 - val_psnr2: 0.2021\n",
      "Epoch 9/200\n",
      "360/360 [==============================] - 131s 364ms/step - gen_total_loss: 3.6225 - gen_gan_loss: 0.8437 - gen_l1_loss: 0.0278 - disc_loss: 1.3083 - val_accuracy: 0.6570 - val_ssim2: 0.9486 - val_psnr2: 0.2244\n",
      "Epoch 10/200\n",
      "360/360 [==============================] - 122s 339ms/step - gen_total_loss: 3.5084 - gen_gan_loss: 0.8510 - gen_l1_loss: 0.0266 - disc_loss: 1.2901 - val_accuracy: 0.4143 - val_ssim2: 0.9485 - val_psnr2: 0.2256\n",
      "Epoch 11/200\n",
      "360/360 [==============================] - 132s 366ms/step - gen_total_loss: 3.3834 - gen_gan_loss: 0.8747 - gen_l1_loss: 0.0251 - disc_loss: 1.2745 - val_accuracy: 0.4602 - val_ssim2: 0.9460 - val_psnr2: 0.2220\n",
      "Epoch 12/200\n",
      "360/360 [==============================] - 126s 349ms/step - gen_total_loss: 3.2974 - gen_gan_loss: 0.8749 - gen_l1_loss: 0.0242 - disc_loss: 1.2702 - val_accuracy: 0.4799 - val_ssim2: 0.9444 - val_psnr2: 0.2103\n",
      "Epoch 13/200\n",
      "360/360 [==============================] - 90s 249ms/step - gen_total_loss: 3.1612 - gen_gan_loss: 0.8715 - gen_l1_loss: 0.0229 - disc_loss: 1.2764 - val_accuracy: 0.6362 - val_ssim2: 0.9400 - val_psnr2: 0.2073\n",
      "Epoch 14/200\n",
      "360/360 [==============================] - 99s 274ms/step - gen_total_loss: 3.4997 - gen_gan_loss: 0.9840 - gen_l1_loss: 0.0252 - disc_loss: 1.1797 - val_accuracy: 0.1640 - val_ssim2: 0.9484 - val_psnr2: 0.2223\n",
      "Epoch 15/200\n",
      "360/360 [==============================] - 97s 270ms/step - gen_total_loss: 3.3243 - gen_gan_loss: 0.9567 - gen_l1_loss: 0.0237 - disc_loss: 1.2118 - val_accuracy: 0.3890 - val_ssim2: 0.9549 - val_psnr2: 0.2342\n",
      "Epoch 16/200\n",
      "360/360 [==============================] - 97s 270ms/step - gen_total_loss: 3.1855 - gen_gan_loss: 0.9404 - gen_l1_loss: 0.0225 - disc_loss: 1.2330 - val_accuracy: 0.5224 - val_ssim2: 0.9585 - val_psnr2: 0.2381\n",
      "Epoch 17/200\n",
      "360/360 [==============================] - 97s 270ms/step - gen_total_loss: 3.3303 - gen_gan_loss: 0.9912 - gen_l1_loss: 0.0234 - disc_loss: 1.1746 - val_accuracy: 0.4077 - val_ssim2: 0.9533 - val_psnr2: 0.2332\n",
      "Epoch 18/200\n",
      "360/360 [==============================] - 97s 269ms/step - gen_total_loss: 3.2639 - gen_gan_loss: 1.0052 - gen_l1_loss: 0.0226 - disc_loss: 1.1827 - val_accuracy: 0.4061 - val_ssim2: 0.9588 - val_psnr2: 0.2390\n",
      "Epoch 19/200\n",
      "360/360 [==============================] - 97s 270ms/step - gen_total_loss: 3.2357 - gen_gan_loss: 1.0137 - gen_l1_loss: 0.0222 - disc_loss: 1.1663 - val_accuracy: 0.4470 - val_ssim2: 0.9503 - val_psnr2: 0.2224\n",
      "Epoch 20/200\n",
      "360/360 [==============================] - 90s 250ms/step - gen_total_loss: 3.5564 - gen_gan_loss: 1.0914 - gen_l1_loss: 0.0247 - disc_loss: 1.1085 - val_accuracy: 0.4404 - val_ssim2: 0.9561 - val_psnr2: 0.2348\n",
      "Epoch 21/200\n",
      "360/360 [==============================] - 92s 254ms/step - gen_total_loss: 3.3522 - gen_gan_loss: 1.0836 - gen_l1_loss: 0.0227 - disc_loss: 1.1179 - val_accuracy: 0.5684 - val_ssim2: 0.9437 - val_psnr2: 0.2165\n",
      "Epoch 22/200\n",
      "360/360 [==============================] - 91s 252ms/step - gen_total_loss: 3.5763 - gen_gan_loss: 1.1618 - gen_l1_loss: 0.0241 - disc_loss: 1.0702 - val_accuracy: 0.1925 - val_ssim2: 0.9398 - val_psnr2: 0.2168\n",
      "Epoch 23/200\n",
      "360/360 [==============================] - 90s 251ms/step - gen_total_loss: 3.7617 - gen_gan_loss: 1.2606 - gen_l1_loss: 0.0250 - disc_loss: 1.0064 - val_accuracy: 0.3771 - val_ssim2: 0.9579 - val_psnr2: 0.2382\n",
      "Epoch 24/200\n",
      "360/360 [==============================] - 92s 256ms/step - gen_total_loss: 3.5341 - gen_gan_loss: 1.2128 - gen_l1_loss: 0.0232 - disc_loss: 1.0613 - val_accuracy: 0.5710 - val_ssim2: 0.9527 - val_psnr2: 0.2284\n",
      "Epoch 25/200\n",
      "360/360 [==============================] - 91s 254ms/step - gen_total_loss: 3.7177 - gen_gan_loss: 1.2945 - gen_l1_loss: 0.0242 - disc_loss: 0.9952 - val_accuracy: 0.5853 - val_ssim2: 0.9563 - val_psnr2: 0.2363\n",
      "Epoch 26/200\n",
      "360/360 [==============================] - 91s 252ms/step - gen_total_loss: 3.7865 - gen_gan_loss: 1.3283 - gen_l1_loss: 0.0246 - disc_loss: 0.9997 - val_accuracy: 0.9350 - val_ssim2: 0.9063 - val_psnr2: 0.1696\n",
      "Epoch 27/200\n",
      "360/360 [==============================] - 93s 257ms/step - gen_total_loss: 4.2898 - gen_gan_loss: 1.6579 - gen_l1_loss: 0.0263 - disc_loss: 0.8605 - val_accuracy: 0.2720 - val_ssim2: 0.9548 - val_psnr2: 0.2349\n",
      "Epoch 28/200\n",
      "360/360 [==============================] - 92s 255ms/step - gen_total_loss: 3.5652 - gen_gan_loss: 1.2953 - gen_l1_loss: 0.0227 - disc_loss: 1.0552 - val_accuracy: 0.7966 - val_ssim2: 0.9563 - val_psnr2: 0.2342\n",
      "Epoch 29/200\n",
      "360/360 [==============================] - 92s 255ms/step - gen_total_loss: 3.7879 - gen_gan_loss: 1.4061 - gen_l1_loss: 0.0238 - disc_loss: 0.9458 - val_accuracy: 0.3523 - val_ssim2: 0.9587 - val_psnr2: 0.2391\n",
      "Epoch 30/200\n",
      "360/360 [==============================] - 91s 254ms/step - gen_total_loss: 4.0507 - gen_gan_loss: 1.4796 - gen_l1_loss: 0.0257 - disc_loss: 0.9023 - val_accuracy: 0.6895 - val_ssim2: 0.9538 - val_psnr2: 0.2319\n",
      "Epoch 31/200\n",
      "360/360 [==============================] - 91s 253ms/step - gen_total_loss: 3.7607 - gen_gan_loss: 1.4022 - gen_l1_loss: 0.0236 - disc_loss: 0.9516 - val_accuracy: 0.7471 - val_ssim2: 0.9577 - val_psnr2: 0.2325\n",
      "Epoch 32/200\n",
      "360/360 [==============================] - 91s 252ms/step - gen_total_loss: 3.9514 - gen_gan_loss: 1.4797 - gen_l1_loss: 0.0247 - disc_loss: 0.9048 - val_accuracy: 0.4239 - val_ssim2: 0.9535 - val_psnr2: 0.2305\n",
      "Epoch 33/200\n",
      "360/360 [==============================] - 90s 251ms/step - gen_total_loss: 3.9666 - gen_gan_loss: 1.5425 - gen_l1_loss: 0.0242 - disc_loss: 0.8840 - val_accuracy: 0.7008 - val_ssim2: 0.9569 - val_psnr2: 0.2373\n",
      "Epoch 34/200\n",
      "360/360 [==============================] - 91s 252ms/step - gen_total_loss: 4.1203 - gen_gan_loss: 1.6037 - gen_l1_loss: 0.0252 - disc_loss: 0.8275 - val_accuracy: 0.5845 - val_ssim2: 0.9488 - val_psnr2: 0.2243\n",
      "Epoch 35/200\n",
      "360/360 [==============================] - 91s 253ms/step - gen_total_loss: 4.2811 - gen_gan_loss: 1.6861 - gen_l1_loss: 0.0260 - disc_loss: 0.8209 - val_accuracy: 0.2558 - val_ssim2: 0.9460 - val_psnr2: 0.2230\n",
      "Epoch 36/200\n",
      "360/360 [==============================] - 90s 251ms/step - gen_total_loss: 4.2851 - gen_gan_loss: 1.7044 - gen_l1_loss: 0.0258 - disc_loss: 0.7827 - val_accuracy: 0.6954 - val_ssim2: 0.9543 - val_psnr2: 0.2318\n",
      "Epoch 37/200\n",
      "360/360 [==============================] - 92s 256ms/step - gen_total_loss: 4.2252 - gen_gan_loss: 1.7063 - gen_l1_loss: 0.0252 - disc_loss: 0.7983 - val_accuracy: 0.4910 - val_ssim2: 0.9579 - val_psnr2: 0.2381\n",
      "Epoch 38/200\n",
      "360/360 [==============================] - 90s 251ms/step - gen_total_loss: 4.6497 - gen_gan_loss: 1.8309 - gen_l1_loss: 0.0282 - disc_loss: 0.7259 - val_accuracy: 0.6904 - val_ssim2: 0.9580 - val_psnr2: 0.2348\n",
      "Epoch 39/200\n",
      "360/360 [==============================] - 89s 248ms/step - gen_total_loss: 4.4608 - gen_gan_loss: 1.8046 - gen_l1_loss: 0.0266 - disc_loss: 0.7767 - val_accuracy: 0.6906 - val_ssim2: 0.9557 - val_psnr2: 0.2346\n",
      "Epoch 40/200\n",
      "360/360 [==============================] - 91s 253ms/step - gen_total_loss: 4.2338 - gen_gan_loss: 1.7832 - gen_l1_loss: 0.0245 - disc_loss: 0.8002 - val_accuracy: 0.6824 - val_ssim2: 0.9569 - val_psnr2: 0.2364\n",
      "Epoch 41/200\n",
      "360/360 [==============================] - 90s 251ms/step - gen_total_loss: 4.3119 - gen_gan_loss: 1.8430 - gen_l1_loss: 0.0247 - disc_loss: 0.7429 - val_accuracy: 0.9079 - val_ssim2: 0.9586 - val_psnr2: 0.2397\n",
      "Epoch 42/200\n",
      "360/360 [==============================] - 91s 252ms/step - gen_total_loss: 4.4965 - gen_gan_loss: 1.9204 - gen_l1_loss: 0.0258 - disc_loss: 0.7324 - val_accuracy: 0.7261 - val_ssim2: 0.9564 - val_psnr2: 0.2358\n",
      "Epoch 43/200\n",
      "360/360 [==============================] - 91s 252ms/step - gen_total_loss: 4.4656 - gen_gan_loss: 1.9481 - gen_l1_loss: 0.0252 - disc_loss: 0.7019 - val_accuracy: 0.6730 - val_ssim2: 0.9457 - val_psnr2: 0.2227\n",
      "Epoch 44/200\n",
      "360/360 [==============================] - 91s 253ms/step - gen_total_loss: 4.6597 - gen_gan_loss: 2.0344 - gen_l1_loss: 0.0263 - disc_loss: 0.6739 - val_accuracy: 0.5643 - val_ssim2: 0.9474 - val_psnr2: 0.2216\n",
      "Epoch 45/200\n",
      "360/360 [==============================] - 91s 254ms/step - gen_total_loss: 4.9972 - gen_gan_loss: 2.1550 - gen_l1_loss: 0.0284 - disc_loss: 0.5942 - val_accuracy: 0.8265 - val_ssim2: 0.9418 - val_psnr2: 0.2179\n",
      "Epoch 46/200\n",
      "360/360 [==============================] - 90s 249ms/step - gen_total_loss: 5.1179 - gen_gan_loss: 2.2508 - gen_l1_loss: 0.0287 - disc_loss: 0.6219 - val_accuracy: 0.8683 - val_ssim2: 0.9564 - val_psnr2: 0.2338\n",
      "Epoch 47/200\n",
      "360/360 [==============================] - 90s 250ms/step - gen_total_loss: 5.0296 - gen_gan_loss: 2.2720 - gen_l1_loss: 0.0276 - disc_loss: 0.5924 - val_accuracy: 0.5925 - val_ssim2: 0.9477 - val_psnr2: 0.2182\n",
      "Epoch 48/200\n",
      "360/360 [==============================] - 91s 253ms/step - gen_total_loss: 5.2452 - gen_gan_loss: 2.3660 - gen_l1_loss: 0.0288 - disc_loss: 0.5689 - val_accuracy: 0.8478 - val_ssim2: 0.9450 - val_psnr2: 0.2234\n",
      "Epoch 49/200\n",
      "360/360 [==============================] - 90s 249ms/step - gen_total_loss: 5.3312 - gen_gan_loss: 2.3636 - gen_l1_loss: 0.0297 - disc_loss: 0.6017 - val_accuracy: 0.5555 - val_ssim2: 0.9407 - val_psnr2: 0.2153\n",
      "Epoch 50/200\n",
      "360/360 [==============================] - 92s 255ms/step - gen_total_loss: 5.0962 - gen_gan_loss: 2.3638 - gen_l1_loss: 0.0273 - disc_loss: 0.5902 - val_accuracy: 0.8112 - val_ssim2: 0.9553 - val_psnr2: 0.2363\n",
      "Epoch 51/200\n",
      "360/360 [==============================] - 91s 252ms/step - gen_total_loss: 4.9642 - gen_gan_loss: 2.3101 - gen_l1_loss: 0.0265 - disc_loss: 0.6263 - val_accuracy: 0.8678 - val_ssim2: 0.9564 - val_psnr2: 0.2363\n",
      "Epoch 52/200\n",
      "360/360 [==============================] - 90s 251ms/step - gen_total_loss: 4.8781 - gen_gan_loss: 2.2911 - gen_l1_loss: 0.0259 - disc_loss: 0.6119 - val_accuracy: 0.7247 - val_ssim2: 0.9485 - val_psnr2: 0.2225\n",
      "Epoch 53/200\n",
      "360/360 [==============================] - 92s 255ms/step - gen_total_loss: 5.2684 - gen_gan_loss: 2.4888 - gen_l1_loss: 0.0278 - disc_loss: 0.5561 - val_accuracy: 0.6296 - val_ssim2: 0.9554 - val_psnr2: 0.2326\n",
      "Epoch 54/200\n",
      "360/360 [==============================] - 90s 251ms/step - gen_total_loss: 7.5954 - gen_gan_loss: 3.3010 - gen_l1_loss: 0.0429 - disc_loss: 0.4715 - val_accuracy: 0.4495 - val_ssim2: 0.9385 - val_psnr2: 0.2098\n",
      "Epoch 55/200\n",
      "360/360 [==============================] - 91s 253ms/step - gen_total_loss: 5.4565 - gen_gan_loss: 2.5089 - gen_l1_loss: 0.0295 - disc_loss: 0.6085 - val_accuracy: 0.8805 - val_ssim2: 0.9560 - val_psnr2: 0.2329\n",
      "Epoch 56/200\n",
      "360/360 [==============================] - 91s 251ms/step - gen_total_loss: 5.6968 - gen_gan_loss: 2.7285 - gen_l1_loss: 0.0297 - disc_loss: 0.4933 - val_accuracy: 0.7220 - val_ssim2: 0.9487 - val_psnr2: 0.2292\n",
      "Epoch 57/200\n",
      "360/360 [==============================] - 91s 252ms/step - gen_total_loss: 5.6960 - gen_gan_loss: 2.6733 - gen_l1_loss: 0.0302 - disc_loss: 0.5034 - val_accuracy: 0.7070 - val_ssim2: 0.9393 - val_psnr2: 0.2205\n",
      "Epoch 58/200\n",
      "360/360 [==============================] - 91s 254ms/step - gen_total_loss: 6.7918 - gen_gan_loss: 3.4359 - gen_l1_loss: 0.0336 - disc_loss: 0.4148 - val_accuracy: 0.6249 - val_ssim2: 0.9534 - val_psnr2: 0.2309\n",
      "Epoch 59/200\n",
      "360/360 [==============================] - 92s 254ms/step - gen_total_loss: 5.4420 - gen_gan_loss: 2.6321 - gen_l1_loss: 0.0281 - disc_loss: 0.5345 - val_accuracy: 0.7363 - val_ssim2: 0.9533 - val_psnr2: 0.2316\n",
      "Epoch 60/200\n",
      "360/360 [==============================] - 90s 251ms/step - gen_total_loss: 5.2475 - gen_gan_loss: 2.5540 - gen_l1_loss: 0.0269 - disc_loss: 0.5521 - val_accuracy: 0.7184 - val_ssim2: 0.9526 - val_psnr2: 0.2281\n",
      "Epoch 61/200\n",
      "360/360 [==============================] - 91s 253ms/step - gen_total_loss: 5.3654 - gen_gan_loss: 2.6148 - gen_l1_loss: 0.0275 - disc_loss: 0.5244 - val_accuracy: 0.3367 - val_ssim2: 0.9209 - val_psnr2: 0.1975\n",
      "Epoch 62/200\n",
      "360/360 [==============================] - 91s 253ms/step - gen_total_loss: 5.5472 - gen_gan_loss: 2.7118 - gen_l1_loss: 0.0284 - disc_loss: 0.4966 - val_accuracy: 0.6889 - val_ssim2: 0.9531 - val_psnr2: 0.2304\n",
      "Epoch 63/200\n",
      "360/360 [==============================] - 91s 254ms/step - gen_total_loss: 5.7998 - gen_gan_loss: 2.7915 - gen_l1_loss: 0.0301 - disc_loss: 0.4751 - val_accuracy: 0.8296 - val_ssim2: 0.9511 - val_psnr2: 0.2281\n",
      "Epoch 64/200\n",
      "360/360 [==============================] - 90s 251ms/step - gen_total_loss: 5.4097 - gen_gan_loss: 2.7737 - gen_l1_loss: 0.0264 - disc_loss: 0.4955 - val_accuracy: 0.7440 - val_ssim2: 0.9548 - val_psnr2: 0.2342\n",
      "Epoch 65/200\n",
      "360/360 [==============================] - 91s 252ms/step - gen_total_loss: 5.4614 - gen_gan_loss: 2.7714 - gen_l1_loss: 0.0269 - disc_loss: 0.5327 - val_accuracy: 0.7425 - val_ssim2: 0.9556 - val_psnr2: 0.2379\n",
      "Epoch 66/200\n",
      "360/360 [==============================] - 91s 252ms/step - gen_total_loss: 5.3435 - gen_gan_loss: 2.6695 - gen_l1_loss: 0.0267 - disc_loss: 0.5068 - val_accuracy: 0.8977 - val_ssim2: 0.9533 - val_psnr2: 0.2313\n",
      "Epoch 67/200\n",
      "360/360 [==============================] - 91s 252ms/step - gen_total_loss: 5.6753 - gen_gan_loss: 2.8882 - gen_l1_loss: 0.0279 - disc_loss: 0.4716 - val_accuracy: 0.8993 - val_ssim2: 0.9553 - val_psnr2: 0.2326\n",
      "Epoch 68/200\n",
      "360/360 [==============================] - 91s 253ms/step - gen_total_loss: 6.2727 - gen_gan_loss: 3.1269 - gen_l1_loss: 0.0315 - disc_loss: 0.3829 - val_accuracy: 0.8298 - val_ssim2: 0.9554 - val_psnr2: 0.2322\n",
      "Epoch 69/200\n",
      "360/360 [==============================] - 92s 254ms/step - gen_total_loss: 6.1057 - gen_gan_loss: 3.1404 - gen_l1_loss: 0.0297 - disc_loss: 0.3834 - val_accuracy: 0.8124 - val_ssim2: 0.9548 - val_psnr2: 0.2324\n",
      "Epoch 70/200\n",
      "360/360 [==============================] - 91s 254ms/step - gen_total_loss: 5.5458 - gen_gan_loss: 2.9006 - gen_l1_loss: 0.0265 - disc_loss: 0.4786 - val_accuracy: 0.7877 - val_ssim2: 0.9470 - val_psnr2: 0.2153\n",
      "Epoch 71/200\n",
      "360/360 [==============================] - 91s 252ms/step - gen_total_loss: 5.7642 - gen_gan_loss: 3.0088 - gen_l1_loss: 0.0276 - disc_loss: 0.4649 - val_accuracy: 0.8210 - val_ssim2: 0.9536 - val_psnr2: 0.2326\n",
      "Epoch 72/200\n",
      "360/360 [==============================] - 91s 253ms/step - gen_total_loss: 5.5473 - gen_gan_loss: 2.8786 - gen_l1_loss: 0.0267 - disc_loss: 0.4981 - val_accuracy: 0.6930 - val_ssim2: 0.9524 - val_psnr2: 0.2349\n",
      "Epoch 73/200\n",
      "360/360 [==============================] - 91s 253ms/step - gen_total_loss: 6.7591 - gen_gan_loss: 3.4601 - gen_l1_loss: 0.0330 - disc_loss: 0.3618 - val_accuracy: 0.8277 - val_ssim2: 0.9442 - val_psnr2: 0.2195\n",
      "Epoch 74/200\n",
      "360/360 [==============================] - 91s 252ms/step - gen_total_loss: 7.2362 - gen_gan_loss: 3.7446 - gen_l1_loss: 0.0349 - disc_loss: 0.3221 - val_accuracy: 0.6139 - val_ssim2: 0.9455 - val_psnr2: 0.2225\n",
      "Epoch 75/200\n",
      "360/360 [==============================] - 92s 255ms/step - gen_total_loss: 6.6023 - gen_gan_loss: 3.4558 - gen_l1_loss: 0.0315 - disc_loss: 0.3551 - val_accuracy: 0.9024 - val_ssim2: 0.9503 - val_psnr2: 0.2247\n",
      "Epoch 76/200\n",
      "360/360 [==============================] - 91s 252ms/step - gen_total_loss: 6.1493 - gen_gan_loss: 3.3133 - gen_l1_loss: 0.0284 - disc_loss: 0.4107 - val_accuracy: 0.7296 - val_ssim2: 0.9521 - val_psnr2: 0.2280\n",
      "Epoch 77/200\n",
      "360/360 [==============================] - 91s 252ms/step - gen_total_loss: 5.9433 - gen_gan_loss: 3.1425 - gen_l1_loss: 0.0280 - disc_loss: 0.4644 - val_accuracy: 0.8761 - val_ssim2: 0.9568 - val_psnr2: 0.2345\n",
      "Epoch 78/200\n",
      "360/360 [==============================] - 92s 254ms/step - gen_total_loss: 5.9686 - gen_gan_loss: 3.2586 - gen_l1_loss: 0.0271 - disc_loss: 0.4118 - val_accuracy: 0.9097 - val_ssim2: 0.9555 - val_psnr2: 0.2318\n",
      "Epoch 79/200\n",
      "360/360 [==============================] - 91s 252ms/step - gen_total_loss: 6.0364 - gen_gan_loss: 3.2924 - gen_l1_loss: 0.0274 - disc_loss: 0.3761 - val_accuracy: 0.6056 - val_ssim2: 0.9519 - val_psnr2: 0.2273\n",
      "Epoch 80/200\n",
      "360/360 [==============================] - 90s 251ms/step - gen_total_loss: 5.8773 - gen_gan_loss: 3.2319 - gen_l1_loss: 0.0265 - disc_loss: 0.4404 - val_accuracy: 0.8699 - val_ssim2: 0.9587 - val_psnr2: 0.2364\n",
      "Epoch 81/200\n",
      "360/360 [==============================] - 104s 288ms/step - gen_total_loss: 5.9152 - gen_gan_loss: 3.2519 - gen_l1_loss: 0.0266 - disc_loss: 0.3974 - val_accuracy: 0.8690 - val_ssim2: 0.9592 - val_psnr2: 0.2381\n",
      "Epoch 82/200\n",
      "360/360 [==============================] - 91s 252ms/step - gen_total_loss: 6.2847 - gen_gan_loss: 3.4215 - gen_l1_loss: 0.0286 - disc_loss: 0.3866 - val_accuracy: 0.9177 - val_ssim2: 0.9570 - val_psnr2: 0.2353\n",
      "Epoch 83/200\n",
      "360/360 [==============================] - 91s 253ms/step - gen_total_loss: 5.8928 - gen_gan_loss: 3.2587 - gen_l1_loss: 0.0263 - disc_loss: 0.4093 - val_accuracy: 0.8704 - val_ssim2: 0.9515 - val_psnr2: 0.2313\n",
      "Epoch 84/200\n",
      "360/360 [==============================] - 92s 254ms/step - gen_total_loss: 5.9324 - gen_gan_loss: 3.3287 - gen_l1_loss: 0.0260 - disc_loss: 0.4060 - val_accuracy: 0.8874 - val_ssim2: 0.9567 - val_psnr2: 0.2346\n",
      "Epoch 85/200\n",
      "360/360 [==============================] - 91s 254ms/step - gen_total_loss: 6.7698 - gen_gan_loss: 3.6628 - gen_l1_loss: 0.0311 - disc_loss: 0.3825 - val_accuracy: 0.9242 - val_ssim2: 0.9518 - val_psnr2: 0.2263\n",
      "Epoch 86/200\n",
      "360/360 [==============================] - 91s 253ms/step - gen_total_loss: 6.6189 - gen_gan_loss: 3.6622 - gen_l1_loss: 0.0296 - disc_loss: 0.3501 - val_accuracy: 0.6743 - val_ssim2: 0.9562 - val_psnr2: 0.2331\n",
      "Epoch 87/200\n",
      "360/360 [==============================] - 92s 257ms/step - gen_total_loss: 6.9204 - gen_gan_loss: 3.8183 - gen_l1_loss: 0.0310 - disc_loss: 0.3130 - val_accuracy: 0.7629 - val_ssim2: 0.9486 - val_psnr2: 0.2315\n",
      "Epoch 88/200\n",
      "360/360 [==============================] - 90s 250ms/step - gen_total_loss: 6.1828 - gen_gan_loss: 3.4458 - gen_l1_loss: 0.0274 - disc_loss: 0.3666 - val_accuracy: 0.8606 - val_ssim2: 0.9577 - val_psnr2: 0.2356\n",
      "Epoch 89/200\n",
      "360/360 [==============================] - ETA: 0s - gen_total_loss: 6.4816 - gen_gan_loss: 3.6471 - gen_l1_loss: 0.0283 - disc_loss: 0.3598"
     ]
    }
   ],
   "source": [
    "init_models(models.allowed['Pix2Pix_model_v7'])"
   ]
  },
  {
   "cell_type": "code",
   "execution_count": null,
   "metadata": {},
   "outputs": [],
   "source": [
    "init_models(models.allowed['Pix2Pix_model_v8'])"
   ]
  },
  {
   "cell_type": "code",
   "execution_count": null,
   "metadata": {},
   "outputs": [],
   "source": [
    "init_models(models.allowed['Pix2Pix_model_v9'])"
   ]
  }
 ],
 "metadata": {
  "kernelspec": {
   "display_name": "deep_learning",
   "language": "python",
   "name": "deep_learning"
  },
  "language_info": {
   "codemirror_mode": {
    "name": "ipython",
    "version": 3
   },
   "file_extension": ".py",
   "mimetype": "text/x-python",
   "name": "python",
   "nbconvert_exporter": "python",
   "pygments_lexer": "ipython3",
   "version": "3.8.5"
  }
 },
 "nbformat": 4,
 "nbformat_minor": 4
}
