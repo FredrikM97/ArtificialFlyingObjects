{
 "cells": [
  {
   "cell_type": "code",
   "execution_count": 1,
   "metadata": {},
   "outputs": [],
   "source": [
    "%load_ext autoreload\n",
    "%autoreload 2"
   ]
  },
  {
   "cell_type": "code",
   "execution_count": 2,
   "metadata": {},
   "outputs": [],
   "source": [
    "from configGAN import *\n",
    "import setupGPU\n",
    "cfg = flying_objects_config()\n",
    "setupGPU.setup_GPU(cfg)"
   ]
  },
  {
   "cell_type": "code",
   "execution_count": null,
   "metadata": {},
   "outputs": [],
   "source": [
    "import tensorflow as tf\n",
    "from utilsGAN import *\n",
    "from improvedUtils import preprocess, logger"
   ]
  },
  {
   "cell_type": "code",
   "execution_count": 4,
   "metadata": {},
   "outputs": [
    {
     "name": "stdout",
     "output_type": "stream",
     "text": [
      "\n",
      "######################################################################\n",
      "##################### Training Data Statistics #####################\n",
      "######################################################################\n",
      "total image number \t 10817\n",
      "total class number \t 3\n",
      "class square \t 3488 images\n",
      "class circular \t 3626 images\n",
      "class triangle \t 3703 images\n",
      "######################################################################\n",
      "\n",
      "######################################################################\n",
      "##################### Validation Data Statistics #####################\n",
      "######################################################################\n",
      "total image number \t 2241\n",
      "total class number \t 3\n",
      "class triangle \t 745 images\n",
      "class square \t 783 images\n",
      "class circular \t 713 images\n",
      "######################################################################\n",
      "\n",
      "######################################################################\n",
      "##################### Testing Data Statistics #####################\n",
      "######################################################################\n",
      "total image number \t 2220\n",
      "total class number \t 3\n",
      "class triangle \t 733 images\n",
      "class square \t 765 images\n",
      "class circular \t 722 images\n",
      "######################################################################\n"
     ]
    }
   ],
   "source": [
    "show_statistics(cfg.training_data_dir, fineGrained=False, title=\" Training Data Statistics \")\n",
    "show_statistics(cfg.validation_data_dir, fineGrained=False, title=\" Validation Data Statistics \")\n",
    "show_statistics(cfg.testing_data_dir, fineGrained=False, title=\" Testing Data Statistics \")"
   ]
  },
  {
   "cell_type": "markdown",
   "metadata": {},
   "source": [
    "# Define train function"
   ]
  },
  {
   "cell_type": "code",
   "execution_count": 5,
   "metadata": {},
   "outputs": [],
   "source": [
    "def start_training(train_class, model):\n",
    "    log_dir = logger(model.__name__)\n",
    "    print(f\"\\nSetting up training environment: Train: {train_class.__name__} Model: {model.__name__}\\n{'-'*40}\\nlog_dir: {log_dir}\")\n",
    "    train_batch_generator, valid_batch_generator, test_batch_generator, nbr_train_data,nbr_valid_data, nbr_test_data = preprocess(image_shape, normalize_type=model.__norm__, jitter=model.__jitter__, cfg=cfg)\n",
    "    gan = train_class.start_train(\n",
    "        model, \n",
    "        cfg, \n",
    "        log_dir=log_dir,\n",
    "        train_batch_generator=train_batch_generator,\n",
    "        valid_batch_generator=valid_batch_generator,\n",
    "        nbr_train_data=nbr_train_data,\n",
    "        nbr_valid_data=nbr_valid_data\n",
    "    )\n",
    "    return gan\n",
    "\n",
    "def init_models(model_class):\n",
    "    train_class = train_class = train.allowed[model_class.__train__]\n",
    "    start_training(train_class, model_class(image_shape))"
   ]
  },
  {
   "cell_type": "markdown",
   "metadata": {},
   "source": [
    "# Model and GAN Architecture"
   ]
  },
  {
   "cell_type": "code",
   "execution_count": 6,
   "metadata": {},
   "outputs": [],
   "source": [
    "import models\n",
    "import train"
   ]
  },
  {
   "cell_type": "code",
   "execution_count": 7,
   "metadata": {},
   "outputs": [
    {
     "name": "stdout",
     "output_type": "stream",
     "text": [
      "Allowed models:\n",
      "------------\n",
      "default_model_v0\n",
      "Pix2Pix_model_v1\n",
      "Pix2Pix_model_v10\n",
      "Pix2Pix_model_v11\n",
      "Pix2Pix_model_v12\n",
      "Pix2Pix_model_v2\n",
      "Pix2Pix_model_v3\n",
      "Pix2Pix_model_v5\n",
      "Pix2Pix_model_v6\n",
      "Pix2Pix_model_v7\n",
      "Pix2Pix_model_v8\n",
      "Pix2Pix_model_v9\n",
      "Pix2Pix_wasserstein_model_v4\n",
      "segmentation_model_v1\n",
      "segmentation_model_v2\n",
      "\n",
      "Allowed train:\n",
      "------------\n",
      "pix2pix_minibatches\n",
      "pix2pix\n",
      "wasserstein\n"
     ]
    }
   ],
   "source": [
    "print(\"Allowed models:\\n------------\",*models.allowed, sep=\"\\n\")\n",
    "print(\"\\nAllowed train:\\n------------\",*train.allowed, sep=\"\\n\")"
   ]
  },
  {
   "cell_type": "markdown",
   "metadata": {},
   "source": [
    "# Set model"
   ]
  },
  {
   "cell_type": "code",
   "execution_count": 8,
   "metadata": {},
   "outputs": [],
   "source": [
    "image_shape = (cfg.IMAGE_HEIGHT, cfg.IMAGE_WIDTH, cfg.IMAGE_CHANNEL)"
   ]
  },
  {
   "cell_type": "code",
   "execution_count": 9,
   "metadata": {},
   "outputs": [],
   "source": [
    "#model_class = models.allowed['default_model_v0']\n",
    "#train_class = train.allowed[models.allowed['default_model_v0'].__train__]\n",
    "#model = model_class(image_shape)"
   ]
  },
  {
   "cell_type": "markdown",
   "metadata": {},
   "source": [
    "# Train Models"
   ]
  },
  {
   "cell_type": "code",
   "execution_count": 10,
   "metadata": {},
   "outputs": [],
   "source": [
    "#for model_class in list(models.allowed.values())[3:5]:\n",
    "#    train_class = train_class = train.allowed[model_class.__train__]\n",
    "#    start_training(train_class, model_class(image_shape))"
   ]
  },
  {
   "cell_type": "code",
   "execution_count": null,
   "metadata": {},
   "outputs": [
    {
     "name": "stdout",
     "output_type": "stream",
     "text": [
      "\n",
      "Setting up training environment: Train: wasserstein Model: Pix2Pix_wasserstein_model_v4\n",
      "----------------------------------------\n",
      "log_dir: ./logs/20210106-152451.Pix2Pix_wasserstein_model_v4\n",
      "train_x (30, 128, 128, 3) float32 -1.0 1.0\n",
      "train_y (30, 128, 128, 3) float32 -1.0 1.0\n",
      "{'BATCH_SIZE': 30,\n",
      " 'DATA_AUGMENTATION': True,\n",
      " 'DEBUG_MODE': True,\n",
      " 'DROPOUT_PROB': 0.5,\n",
      " 'GPU': 0,\n",
      " 'IMAGE_CHANNEL': 3,\n",
      " 'IMAGE_HEIGHT': 128,\n",
      " 'IMAGE_WIDTH': 128,\n",
      " 'LEARNING_RATE': 0.01,\n",
      " 'LR_DECAY_FACTOR': 0.1,\n",
      " 'NUM_EPOCHS': 200,\n",
      " 'PRINT_EVERY': 50,\n",
      " 'SAVE_EVERY': 1,\n",
      " 'SEQUENCE_LENGTH': 10,\n",
      " 'testing_data_dir': '../data/FlyingObjectDataset_10K/testing',\n",
      " 'training_data_dir': '../data/FlyingObjectDataset_10K/training',\n",
      " 'validation_data_dir': '../data/FlyingObjectDataset_10K/validation'}\n",
      "\n",
      "Starting to train model..\n",
      "Epoch 1/200\n",
      "  1/360 [..............................] - ETA: 0s - wasser_loss: 0.9649 - disc_loss: 1.8291WARNING:tensorflow:From /home/stud/f/fremar16/miniconda3/envs/lab/lib/python3.8/site-packages/tensorflow/python/ops/summary_ops_v2.py:1277: stop (from tensorflow.python.eager.profiler) is deprecated and will be removed after 2020-07-01.\n",
      "Instructions for updating:\n",
      "use `tf.profiler.experimental.stop` instead.\n",
      "360/360 [==============================] - 97s 270ms/step - wasser_loss: 0.0928 - disc_loss: 0.7705 - val_accuracy: 0.5956 - val_ssim2: 0.9249 - val_psnr2: 0.2054\n",
      "Epoch 2/200\n",
      "360/360 [==============================] - 96s 267ms/step - wasser_loss: 0.0456 - disc_loss: 0.0659 - val_accuracy: 0.6802 - val_ssim2: 0.9416 - val_psnr2: 0.2131\n",
      "Epoch 3/200\n",
      "360/360 [==============================] - 96s 267ms/step - wasser_loss: 0.0424 - disc_loss: 0.2479 - val_accuracy: 0.2946 - val_ssim2: 0.9300 - val_psnr2: 0.2012\n",
      "Epoch 4/200\n",
      "360/360 [==============================] - 98s 272ms/step - wasser_loss: 0.0412 - disc_loss: 0.2457 - val_accuracy: 0.5064 - val_ssim2: 0.9422 - val_psnr2: 0.2128\n",
      "Epoch 5/200\n",
      "360/360 [==============================] - 97s 269ms/step - wasser_loss: 0.0403 - disc_loss: 0.1592 - val_accuracy: 0.2383 - val_ssim2: 0.9359 - val_psnr2: 0.2065\n",
      "Epoch 6/200\n",
      "360/360 [==============================] - 94s 262ms/step - wasser_loss: 0.0382 - disc_loss: 0.3780 - val_accuracy: 0.6674 - val_ssim2: 0.9425 - val_psnr2: 0.2144\n",
      "Epoch 7/200\n",
      "360/360 [==============================] - 95s 263ms/step - wasser_loss: 0.0349 - disc_loss: 0.7599 - val_accuracy: 0.4465 - val_ssim2: 0.9486 - val_psnr2: 0.2244\n",
      "Epoch 8/200\n",
      "360/360 [==============================] - 94s 262ms/step - wasser_loss: 0.0314 - disc_loss: 1.1505 - val_accuracy: 0.5584 - val_ssim2: 0.9478 - val_psnr2: 0.2215\n",
      "Epoch 9/200\n",
      "360/360 [==============================] - 96s 266ms/step - wasser_loss: 0.0284 - disc_loss: 1.2655 - val_accuracy: 0.3962 - val_ssim2: 0.9547 - val_psnr2: 0.2313\n",
      "Epoch 10/200\n",
      "360/360 [==============================] - 96s 267ms/step - wasser_loss: 0.0264 - disc_loss: 1.3133 - val_accuracy: 0.4559 - val_ssim2: 0.9565 - val_psnr2: 0.2341\n",
      "Epoch 11/200\n",
      "360/360 [==============================] - 96s 266ms/step - wasser_loss: 0.0251 - disc_loss: 1.3023 - val_accuracy: 0.5682 - val_ssim2: 0.9371 - val_psnr2: 0.2009\n",
      "Epoch 12/200\n",
      "360/360 [==============================] - 99s 274ms/step - wasser_loss: 0.0243 - disc_loss: 1.3002 - val_accuracy: 0.4511 - val_ssim2: 0.9464 - val_psnr2: 0.2213\n",
      "Epoch 13/200\n",
      "360/360 [==============================] - 99s 274ms/step - wasser_loss: 0.0231 - disc_loss: 1.2650 - val_accuracy: 0.4038 - val_ssim2: 0.9539 - val_psnr2: 0.2306\n",
      "Epoch 14/200\n",
      "360/360 [==============================] - 99s 274ms/step - wasser_loss: 0.0221 - disc_loss: 1.2078 - val_accuracy: 0.4990 - val_ssim2: 0.9571 - val_psnr2: 0.2372\n",
      "Epoch 15/200\n",
      "360/360 [==============================] - 99s 274ms/step - wasser_loss: 0.0216 - disc_loss: 1.0955 - val_accuracy: 0.7750 - val_ssim2: 0.9565 - val_psnr2: 0.2312\n",
      "Epoch 16/200\n",
      "360/360 [==============================] - 98s 273ms/step - wasser_loss: 0.0215 - disc_loss: 0.9411 - val_accuracy: 0.5333 - val_ssim2: 0.9477 - val_psnr2: 0.2174\n",
      "Epoch 17/200\n",
      "360/360 [==============================] - 98s 273ms/step - wasser_loss: 0.0210 - disc_loss: 0.9008 - val_accuracy: 0.8547 - val_ssim2: 0.9356 - val_psnr2: 0.2030\n",
      "Epoch 18/200\n",
      "360/360 [==============================] - 99s 274ms/step - wasser_loss: 0.0203 - disc_loss: 0.6398 - val_accuracy: 0.8363 - val_ssim2: 0.9560 - val_psnr2: 0.2360\n",
      "Epoch 19/200\n",
      "360/360 [==============================] - 96s 267ms/step - wasser_loss: 0.0197 - disc_loss: 0.8137 - val_accuracy: 0.5420 - val_ssim2: 0.9537 - val_psnr2: 0.2290\n",
      "Epoch 20/200\n",
      "360/360 [==============================] - 96s 266ms/step - wasser_loss: 0.0195 - disc_loss: 0.5876 - val_accuracy: 0.5658 - val_ssim2: 0.9460 - val_psnr2: 0.2136\n",
      "Epoch 21/200\n",
      "360/360 [==============================] - 96s 267ms/step - wasser_loss: 0.0189 - disc_loss: 0.5765 - val_accuracy: 0.4647 - val_ssim2: 0.9517 - val_psnr2: 0.2292\n",
      "Epoch 22/200\n",
      "360/360 [==============================] - 99s 274ms/step - wasser_loss: 0.0182 - disc_loss: 0.5216 - val_accuracy: 0.7752 - val_ssim2: 0.9474 - val_psnr2: 0.2211\n",
      "Epoch 23/200\n",
      "360/360 [==============================] - 98s 272ms/step - wasser_loss: 0.0185 - disc_loss: 0.4969 - val_accuracy: 0.6899 - val_ssim2: 0.9569 - val_psnr2: 0.2352\n",
      "Epoch 24/200\n",
      "360/360 [==============================] - 99s 275ms/step - wasser_loss: 0.0185 - disc_loss: 0.4928 - val_accuracy: 0.4654 - val_ssim2: 0.9482 - val_psnr2: 0.2197\n",
      "Epoch 25/200\n",
      "360/360 [==============================] - 99s 276ms/step - wasser_loss: 0.0179 - disc_loss: 0.4930 - val_accuracy: 0.8475 - val_ssim2: 0.9591 - val_psnr2: 0.2407\n",
      "Epoch 26/200\n",
      "360/360 [==============================] - 99s 274ms/step - wasser_loss: 0.0174 - disc_loss: 0.3703 - val_accuracy: 0.7366 - val_ssim2: 0.9544 - val_psnr2: 0.2345\n",
      "Epoch 27/200\n",
      "360/360 [==============================] - 99s 275ms/step - wasser_loss: 0.0169 - disc_loss: 0.4843 - val_accuracy: 0.8819 - val_ssim2: 0.9399 - val_psnr2: 0.2089\n",
      "Epoch 28/200\n",
      "360/360 [==============================] - 100s 277ms/step - wasser_loss: 0.0172 - disc_loss: 0.5570 - val_accuracy: 0.8080 - val_ssim2: 0.9616 - val_psnr2: 0.2436\n",
      "Epoch 29/200\n",
      "360/360 [==============================] - 97s 268ms/step - wasser_loss: 0.0165 - disc_loss: 0.3879 - val_accuracy: 0.8255 - val_ssim2: 0.9594 - val_psnr2: 0.2397\n",
      "Epoch 30/200\n",
      "360/360 [==============================] - 97s 269ms/step - wasser_loss: 0.0163 - disc_loss: 0.4800 - val_accuracy: 0.7785 - val_ssim2: 0.9532 - val_psnr2: 0.2269\n",
      "Epoch 31/200\n",
      "360/360 [==============================] - 95s 263ms/step - wasser_loss: 0.0159 - disc_loss: 0.4879 - val_accuracy: 0.5030 - val_ssim2: 0.9471 - val_psnr2: 0.2223\n",
      "Epoch 32/200\n",
      "360/360 [==============================] - 96s 267ms/step - wasser_loss: 0.0163 - disc_loss: 0.4583 - val_accuracy: 0.6794 - val_ssim2: 0.9629 - val_psnr2: 0.2455\n",
      "Epoch 33/200\n",
      "360/360 [==============================] - 96s 266ms/step - wasser_loss: 0.0156 - disc_loss: 0.5493 - val_accuracy: 0.9047 - val_ssim2: 0.9431 - val_psnr2: 0.2164\n",
      "Epoch 34/200\n",
      "360/360 [==============================] - 98s 271ms/step - wasser_loss: 0.0160 - disc_loss: 0.3711 - val_accuracy: 0.9443 - val_ssim2: 0.9582 - val_psnr2: 0.2372\n",
      "Epoch 35/200\n",
      "360/360 [==============================] - 96s 267ms/step - wasser_loss: 0.0150 - disc_loss: 0.5745 - val_accuracy: 0.7667 - val_ssim2: 0.9554 - val_psnr2: 0.2362\n",
      "Epoch 36/200\n",
      "360/360 [==============================] - 96s 267ms/step - wasser_loss: 0.0153 - disc_loss: 0.4322 - val_accuracy: 0.8007 - val_ssim2: 0.9615 - val_psnr2: 0.2429\n",
      "Epoch 37/200\n",
      "360/360 [==============================] - 96s 266ms/step - wasser_loss: 0.0146 - disc_loss: 0.5172 - val_accuracy: 0.9080 - val_ssim2: 0.9605 - val_psnr2: 0.2429\n",
      "Epoch 38/200\n",
      "360/360 [==============================] - 95s 265ms/step - wasser_loss: 0.0144 - disc_loss: 0.4563 - val_accuracy: 0.8885 - val_ssim2: 0.9337 - val_psnr2: 0.1937\n",
      "Epoch 39/200\n",
      "360/360 [==============================] - 95s 265ms/step - wasser_loss: 0.0149 - disc_loss: 0.3715 - val_accuracy: 0.9166 - val_ssim2: 0.9615 - val_psnr2: 0.2445\n",
      "Epoch 40/200\n",
      "360/360 [==============================] - 95s 263ms/step - wasser_loss: 0.0146 - disc_loss: 0.6240 - val_accuracy: 0.9345 - val_ssim2: 0.9599 - val_psnr2: 0.2412\n",
      "Epoch 41/200\n",
      "360/360 [==============================] - 95s 263ms/step - wasser_loss: 0.0146 - disc_loss: 0.3595 - val_accuracy: 0.9204 - val_ssim2: 0.9566 - val_psnr2: 0.2361\n",
      "Epoch 42/200\n",
      "360/360 [==============================] - 94s 262ms/step - wasser_loss: 0.0140 - disc_loss: 0.2897 - val_accuracy: 0.9556 - val_ssim2: 0.9619 - val_psnr2: 0.2446\n",
      "Epoch 43/200\n",
      "360/360 [==============================] - 94s 261ms/step - wasser_loss: 0.0139 - disc_loss: 0.4016 - val_accuracy: 0.9667 - val_ssim2: 0.9571 - val_psnr2: 0.2359\n",
      "Epoch 44/200\n",
      "360/360 [==============================] - 93s 259ms/step - wasser_loss: 0.0138 - disc_loss: 0.4088 - val_accuracy: 0.9537 - val_ssim2: 0.9585 - val_psnr2: 0.2403\n",
      "Epoch 45/200\n",
      "360/360 [==============================] - 94s 260ms/step - wasser_loss: 0.0142 - disc_loss: 0.2966 - val_accuracy: 0.9327 - val_ssim2: 0.9628 - val_psnr2: 0.2441\n",
      "Epoch 46/200\n",
      "360/360 [==============================] - 95s 263ms/step - wasser_loss: 0.0136 - disc_loss: 0.3021 - val_accuracy: 0.9720 - val_ssim2: 0.9528 - val_psnr2: 0.2299\n",
      "Epoch 47/200\n",
      "360/360 [==============================] - 94s 261ms/step - wasser_loss: 0.0135 - disc_loss: 0.3859 - val_accuracy: 0.9597 - val_ssim2: 0.9596 - val_psnr2: 0.2370\n",
      "Epoch 48/200\n",
      "360/360 [==============================] - 95s 263ms/step - wasser_loss: 0.0130 - disc_loss: 0.1857 - val_accuracy: 0.9188 - val_ssim2: 0.9665 - val_psnr2: 0.2505\n",
      "Epoch 49/200\n",
      "360/360 [==============================] - 95s 264ms/step - wasser_loss: 0.0130 - disc_loss: 0.3378 - val_accuracy: 0.9570 - val_ssim2: 0.9620 - val_psnr2: 0.2433\n",
      "Epoch 50/200\n",
      "360/360 [==============================] - 95s 263ms/step - wasser_loss: 0.0128 - disc_loss: 0.2067 - val_accuracy: 0.9646 - val_ssim2: 0.9632 - val_psnr2: 0.2470\n",
      "Epoch 51/200\n",
      "360/360 [==============================] - 94s 262ms/step - wasser_loss: 0.0129 - disc_loss: 0.1990 - val_accuracy: 0.9190 - val_ssim2: 0.9658 - val_psnr2: 0.2518\n",
      "Epoch 52/200\n",
      "360/360 [==============================] - 94s 262ms/step - wasser_loss: 0.0128 - disc_loss: 0.1711 - val_accuracy: 0.9322 - val_ssim2: 0.9588 - val_psnr2: 0.2398\n",
      "Epoch 53/200\n",
      "360/360 [==============================] - 96s 267ms/step - wasser_loss: 0.0130 - disc_loss: 0.3010 - val_accuracy: 0.9646 - val_ssim2: 0.9622 - val_psnr2: 0.2443\n",
      "Epoch 54/200\n",
      "360/360 [==============================] - 97s 269ms/step - wasser_loss: 0.0123 - disc_loss: 0.0844 - val_accuracy: 0.9756 - val_ssim2: 0.9631 - val_psnr2: 0.2443\n",
      "Epoch 55/200\n",
      "360/360 [==============================] - 95s 264ms/step - wasser_loss: 0.0124 - disc_loss: 0.2034 - val_accuracy: 0.9622 - val_ssim2: 0.9620 - val_psnr2: 0.2444\n",
      "Epoch 56/200\n",
      "360/360 [==============================] - 95s 264ms/step - wasser_loss: 0.0129 - disc_loss: 0.1705 - val_accuracy: 0.9674 - val_ssim2: 0.9658 - val_psnr2: 0.2507\n",
      "Epoch 57/200\n",
      "360/360 [==============================] - 96s 266ms/step - wasser_loss: 0.0121 - disc_loss: 0.0305 - val_accuracy: 0.9726 - val_ssim2: 0.9611 - val_psnr2: 0.2446\n",
      "Epoch 58/200\n",
      "360/360 [==============================] - 95s 265ms/step - wasser_loss: 0.0120 - disc_loss: 0.2085 - val_accuracy: 0.9397 - val_ssim2: 0.9650 - val_psnr2: 0.2493\n",
      "Epoch 59/200\n",
      "360/360 [==============================] - 96s 267ms/step - wasser_loss: 0.0118 - disc_loss: 0.1023 - val_accuracy: 0.9768 - val_ssim2: 0.9604 - val_psnr2: 0.2423\n",
      "Epoch 60/200\n",
      "360/360 [==============================] - 95s 264ms/step - wasser_loss: 0.0121 - disc_loss: 0.0261 - val_accuracy: 0.9749 - val_ssim2: 0.9599 - val_psnr2: 0.2401\n",
      "Epoch 61/200\n",
      "360/360 [==============================] - 96s 266ms/step - wasser_loss: 0.0120 - disc_loss: 0.1184 - val_accuracy: 0.9696 - val_ssim2: 0.9564 - val_psnr2: 0.2382\n",
      "Epoch 62/200\n",
      "360/360 [==============================] - 96s 266ms/step - wasser_loss: 0.0124 - disc_loss: 0.1386 - val_accuracy: 0.9534 - val_ssim2: 0.9608 - val_psnr2: 0.2434\n",
      "Epoch 63/200\n",
      "360/360 [==============================] - 96s 266ms/step - wasser_loss: 0.0116 - disc_loss: 0.0280 - val_accuracy: 0.9334 - val_ssim2: 0.9655 - val_psnr2: 0.2499\n",
      "Epoch 64/200\n",
      "360/360 [==============================] - 95s 263ms/step - wasser_loss: 0.0119 - disc_loss: 0.0181 - val_accuracy: 0.9699 - val_ssim2: 0.9635 - val_psnr2: 0.2461\n",
      "Epoch 65/200\n",
      "360/360 [==============================] - 98s 272ms/step - wasser_loss: 0.0113 - disc_loss: 0.0121 - val_accuracy: 0.9712 - val_ssim2: 0.9627 - val_psnr2: 0.2454\n",
      "Epoch 66/200\n",
      "360/360 [==============================] - 96s 268ms/step - wasser_loss: 0.0111 - disc_loss: 0.2362 - val_accuracy: 0.9675 - val_ssim2: 0.9644 - val_psnr2: 0.2477\n",
      "Epoch 67/200\n",
      "360/360 [==============================] - 95s 264ms/step - wasser_loss: 0.0115 - disc_loss: 0.0124 - val_accuracy: 0.9686 - val_ssim2: 0.9655 - val_psnr2: 0.2483\n",
      "Epoch 68/200\n",
      "360/360 [==============================] - 97s 269ms/step - wasser_loss: 0.0109 - disc_loss: 0.0225 - val_accuracy: 0.9713 - val_ssim2: 0.9643 - val_psnr2: 0.2485\n",
      "Epoch 69/200\n",
      "360/360 [==============================] - 99s 275ms/step - wasser_loss: 0.0112 - disc_loss: 0.3546 - val_accuracy: 0.9647 - val_ssim2: 0.9596 - val_psnr2: 0.2418\n",
      "Epoch 70/200\n",
      "360/360 [==============================] - 99s 275ms/step - wasser_loss: 0.0112 - disc_loss: 0.0197 - val_accuracy: 0.9757 - val_ssim2: 0.9626 - val_psnr2: 0.2449\n",
      "Epoch 71/200\n",
      "360/360 [==============================] - 99s 276ms/step - wasser_loss: 0.0112 - disc_loss: 0.0143 - val_accuracy: 0.7620 - val_ssim2: 0.9590 - val_psnr2: 0.2400\n",
      "Epoch 72/200\n",
      "360/360 [==============================] - 98s 273ms/step - wasser_loss: 0.0111 - disc_loss: 0.0095 - val_accuracy: 0.9240 - val_ssim2: 0.9523 - val_psnr2: 0.2324\n",
      "Epoch 73/200\n",
      "360/360 [==============================] - 99s 274ms/step - wasser_loss: 0.0109 - disc_loss: 0.0090 - val_accuracy: 0.9814 - val_ssim2: 0.9642 - val_psnr2: 0.2483\n",
      "Epoch 74/200\n",
      "360/360 [==============================] - 99s 274ms/step - wasser_loss: 0.0109 - disc_loss: 0.0050 - val_accuracy: 0.9830 - val_ssim2: 0.9637 - val_psnr2: 0.2461\n",
      "Epoch 75/200\n",
      "360/360 [==============================] - 98s 274ms/step - wasser_loss: 0.0109 - disc_loss: 0.1915 - val_accuracy: 0.9794 - val_ssim2: 0.9573 - val_psnr2: 0.2346\n",
      "Epoch 76/200\n",
      "360/360 [==============================] - 99s 275ms/step - wasser_loss: 0.0114 - disc_loss: 0.0467 - val_accuracy: 0.9670 - val_ssim2: 0.9611 - val_psnr2: 0.2424\n",
      "Epoch 77/200\n",
      "360/360 [==============================] - 99s 275ms/step - wasser_loss: 0.0106 - disc_loss: 0.0092 - val_accuracy: 0.9605 - val_ssim2: 0.9658 - val_psnr2: 0.2500\n",
      "Epoch 78/200\n",
      "360/360 [==============================] - 95s 265ms/step - wasser_loss: 0.0103 - disc_loss: 0.0052 - val_accuracy: 0.9498 - val_ssim2: 0.9647 - val_psnr2: 0.2480\n",
      "Epoch 79/200\n",
      "360/360 [==============================] - 95s 265ms/step - wasser_loss: 0.0102 - disc_loss: 0.0094 - val_accuracy: 0.9831 - val_ssim2: 0.9665 - val_psnr2: 0.2521\n",
      "Epoch 80/200\n",
      "360/360 [==============================] - 99s 275ms/step - wasser_loss: 0.0111 - disc_loss: 0.0051 - val_accuracy: 0.9832 - val_ssim2: 0.9540 - val_psnr2: 0.2339\n",
      "Epoch 81/200\n",
      "360/360 [==============================] - 100s 277ms/step - wasser_loss: 0.0105 - disc_loss: 0.0040 - val_accuracy: 0.9811 - val_ssim2: 0.9615 - val_psnr2: 0.2446\n",
      "Epoch 82/200\n",
      "360/360 [==============================] - 101s 282ms/step - wasser_loss: 0.0104 - disc_loss: 0.0047 - val_accuracy: 0.9519 - val_ssim2: 0.9663 - val_psnr2: 0.2530\n",
      "Epoch 83/200\n",
      "360/360 [==============================] - 101s 281ms/step - wasser_loss: 0.0105 - disc_loss: 0.1820 - val_accuracy: 0.9393 - val_ssim2: 0.9646 - val_psnr2: 0.2497\n",
      "Epoch 84/200\n",
      "360/360 [==============================] - 100s 279ms/step - wasser_loss: 0.0105 - disc_loss: 0.0125 - val_accuracy: 0.9807 - val_ssim2: 0.9678 - val_psnr2: 0.2531\n",
      "Epoch 85/200\n",
      "360/360 [==============================] - 103s 287ms/step - wasser_loss: 0.0101 - disc_loss: 0.0058 - val_accuracy: 0.9839 - val_ssim2: 0.9592 - val_psnr2: 0.2414\n",
      "Epoch 86/200\n",
      "360/360 [==============================] - 100s 278ms/step - wasser_loss: 0.0101 - disc_loss: 0.0073 - val_accuracy: 0.9542 - val_ssim2: 0.9620 - val_psnr2: 0.2467\n",
      "Epoch 87/200\n",
      "360/360 [==============================] - 101s 280ms/step - wasser_loss: 0.0104 - disc_loss: 0.0036 - val_accuracy: 0.9735 - val_ssim2: 0.9608 - val_psnr2: 0.2423\n",
      "Epoch 88/200\n",
      "360/360 [==============================] - 100s 278ms/step - wasser_loss: 0.0104 - disc_loss: 0.0036 - val_accuracy: 0.9678 - val_ssim2: 0.9681 - val_psnr2: 0.2553\n",
      "Epoch 89/200\n",
      " 98/360 [=======>......................] - ETA: 1:05 - wasser_loss: 0.0102 - disc_loss: 0.0027"
     ]
    }
   ],
   "source": [
    "init_models(models.allowed['Pix2Pix_wasserstein_model_v4'])"
   ]
  },
  {
   "cell_type": "code",
   "execution_count": null,
   "metadata": {},
   "outputs": [],
   "source": [
    "init_models(models.allowed['Pix2Pix_model_v5'])"
   ]
  },
  {
   "cell_type": "code",
   "execution_count": null,
   "metadata": {},
   "outputs": [],
   "source": [
    "init_models(models.allowed['Pix2Pix_model_v11'])"
   ]
  },
  {
   "cell_type": "code",
   "execution_count": null,
   "metadata": {},
   "outputs": [],
   "source": []
  }
 ],
 "metadata": {
  "kernelspec": {
   "display_name": "deep_learning",
   "language": "python",
   "name": "deep_learning"
  },
  "language_info": {
   "codemirror_mode": {
    "name": "ipython",
    "version": 3
   },
   "file_extension": ".py",
   "mimetype": "text/x-python",
   "name": "python",
   "nbconvert_exporter": "python",
   "pygments_lexer": "ipython3",
   "version": "3.8.5"
  }
 },
 "nbformat": 4,
 "nbformat_minor": 4
}
